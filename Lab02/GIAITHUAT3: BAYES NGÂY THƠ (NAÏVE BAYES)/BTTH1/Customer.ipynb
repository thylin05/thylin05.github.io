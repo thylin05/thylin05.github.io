{
 "cells": [
  {
   "cell_type": "markdown",
   "id": "4c683f16-e06b-405a-a286-5f2766aedfe8",
   "metadata": {},
   "source": [
    "Xây dựng mô hình Naïve ngây thơ trên tập dữ liệu hành vi của khách hàng lấy tại https://www.kaggle.com/code/arezalo/customer-behaviour-prediction-naive-bayes "
   ]
  },
  {
   "cell_type": "markdown",
   "id": "e8c4242b-34b8-4430-9071-494413523ab1",
   "metadata": {},
   "source": [
    "## Nhiệm vụ 1: Phân loại sử dụng Naïve Bays \n"
   ]
  },
  {
   "cell_type": "markdown",
   "id": "fbd75407-9ff4-412a-b82d-3bfa9068fc37",
   "metadata": {},
   "source": [
    "### 1. Import thư viện và nạp dữ liệu vào notebook "
   ]
  },
  {
   "cell_type": "code",
   "execution_count": 8,
   "id": "56e3ff0d-2508-4820-9047-7f230e6ad800",
   "metadata": {},
   "outputs": [],
   "source": [
    "# Import thư viện\n",
    "import numpy as np \n",
    "import pandas as pd \n",
    "from sklearn.model_selection import train_test_split \n",
    "from sklearn.feature_extraction.text import CountVectorizer \n",
    "from sklearn.naive_bayes import MultinomialNB \n",
    "from sklearn.metrics import accuracy_score, confusion_matrix, classification_report "
   ]
  },
  {
   "cell_type": "code",
   "execution_count": 9,
   "id": "6593edc4-9f92-4388-a00c-06bf7e052900",
   "metadata": {},
   "outputs": [
    {
     "data": {
      "text/html": [
       "<div>\n",
       "<style scoped>\n",
       "    .dataframe tbody tr th:only-of-type {\n",
       "        vertical-align: middle;\n",
       "    }\n",
       "\n",
       "    .dataframe tbody tr th {\n",
       "        vertical-align: top;\n",
       "    }\n",
       "\n",
       "    .dataframe thead th {\n",
       "        text-align: right;\n",
       "    }\n",
       "</style>\n",
       "<table border=\"1\" class=\"dataframe\">\n",
       "  <thead>\n",
       "    <tr style=\"text-align: right;\">\n",
       "      <th></th>\n",
       "      <th>User ID</th>\n",
       "      <th>Gender</th>\n",
       "      <th>Age</th>\n",
       "      <th>EstimatedSalary</th>\n",
       "      <th>Purchased</th>\n",
       "    </tr>\n",
       "  </thead>\n",
       "  <tbody>\n",
       "    <tr>\n",
       "      <th>0</th>\n",
       "      <td>15624510</td>\n",
       "      <td>Male</td>\n",
       "      <td>19</td>\n",
       "      <td>19000</td>\n",
       "      <td>0</td>\n",
       "    </tr>\n",
       "    <tr>\n",
       "      <th>1</th>\n",
       "      <td>15810944</td>\n",
       "      <td>Male</td>\n",
       "      <td>35</td>\n",
       "      <td>20000</td>\n",
       "      <td>0</td>\n",
       "    </tr>\n",
       "    <tr>\n",
       "      <th>2</th>\n",
       "      <td>15668575</td>\n",
       "      <td>Female</td>\n",
       "      <td>26</td>\n",
       "      <td>43000</td>\n",
       "      <td>0</td>\n",
       "    </tr>\n",
       "    <tr>\n",
       "      <th>3</th>\n",
       "      <td>15603246</td>\n",
       "      <td>Female</td>\n",
       "      <td>27</td>\n",
       "      <td>57000</td>\n",
       "      <td>0</td>\n",
       "    </tr>\n",
       "    <tr>\n",
       "      <th>4</th>\n",
       "      <td>15804002</td>\n",
       "      <td>Male</td>\n",
       "      <td>19</td>\n",
       "      <td>76000</td>\n",
       "      <td>0</td>\n",
       "    </tr>\n",
       "  </tbody>\n",
       "</table>\n",
       "</div>"
      ],
      "text/plain": [
       "    User ID  Gender  Age  EstimatedSalary  Purchased\n",
       "0  15624510    Male   19            19000          0\n",
       "1  15810944    Male   35            20000          0\n",
       "2  15668575  Female   26            43000          0\n",
       "3  15603246  Female   27            57000          0\n",
       "4  15804002    Male   19            76000          0"
      ]
     },
     "execution_count": 9,
     "metadata": {},
     "output_type": "execute_result"
    }
   ],
   "source": [
    "# Đọc dữ liệu\n",
    "data = pd.read_csv('Customer_Behaviour.csv', encoding='latin-1') \n",
    "# Hiển thị 5 dòng đầu\n",
    "data.head()"
   ]
  },
  {
   "cell_type": "markdown",
   "id": "0aa44403-de82-45f2-840b-416a11dd87d1",
   "metadata": {},
   "source": [
    "### 2. Tiền xử lý dữ liệu"
   ]
  },
  {
   "cell_type": "code",
   "execution_count": 14,
   "id": "9dd3ebf0-ffb9-483b-8557-8943ecd3bba8",
   "metadata": {},
   "outputs": [
    {
     "name": "stdout",
     "output_type": "stream",
     "text": [
      "Index(['Gender', 'Age', 'EstimatedSalary', 'Purchased'], dtype='object')\n"
     ]
    }
   ],
   "source": [
    "print(data.columns)"
   ]
  },
  {
   "cell_type": "code",
   "execution_count": 15,
   "id": "3da8e07f-312e-4086-bbec-726ccfcab925",
   "metadata": {},
   "outputs": [],
   "source": [
    "# Import LabelEncoder\n",
    "from sklearn.preprocessing import LabelEncoder\n",
    "\n",
    "# Mã hóa cột Gender: Male/Female -> 1/0\n",
    "le = LabelEncoder()\n",
    "data['Gender'] = le.fit_transform(data['Gender'])"
   ]
  },
  {
   "cell_type": "code",
   "execution_count": 16,
   "id": "b0bbb775-0375-40e3-93be-4b6fb270906d",
   "metadata": {},
   "outputs": [
    {
     "name": "stdout",
     "output_type": "stream",
     "text": [
      "   Gender  Age  EstimatedSalary  Purchased\n",
      "0       1   19            19000          0\n",
      "1       1   35            20000          0\n",
      "2       0   26            43000          0\n",
      "3       0   27            57000          0\n",
      "4       1   19            76000          0\n"
     ]
    }
   ],
   "source": [
    "print(data.head())"
   ]
  },
  {
   "cell_type": "markdown",
   "id": "cd0392e2-8baf-4806-a563-d9c09d5ea18e",
   "metadata": {},
   "source": [
    "### 3. Chia dữ liệu thành X (đặc trưng) và y (nhãn)"
   ]
  },
  {
   "cell_type": "code",
   "execution_count": 17,
   "id": "405257bb-dc67-4ae5-8c23-2b5a3778a143",
   "metadata": {},
   "outputs": [],
   "source": [
    "# Chia X (đặc trưng) và y (nhãn)\n",
    "X = data.drop('Purchased', axis=1)   # Gender, Age, Salary\n",
    "y = data['Purchased']                # Nhãn: Purchased"
   ]
  },
  {
   "cell_type": "code",
   "execution_count": 18,
   "id": "76de20e4-c2ef-44cd-ab24-ae33642e9924",
   "metadata": {},
   "outputs": [],
   "source": [
    "# Tách train/test (80/20)\n",
    "X_train, X_test, y_train, y_test = train_test_split(\n",
    "    X, y, test_size=0.2, random_state=42\n",
    ")"
   ]
  },
  {
   "cell_type": "markdown",
   "id": "cf1b7893-2417-4b08-b6b4-166da6f5ea00",
   "metadata": {},
   "source": [
    "### 4. Xây dựng và huấn luyện mô hình Naïve Bayes"
   ]
  },
  {
   "cell_type": "code",
   "execution_count": 20,
   "id": "2b50418e-6c96-40e1-8091-ff52ea0e0d8d",
   "metadata": {},
   "outputs": [],
   "source": [
    "# Khởi tạo mô hình Naïve Bayes (Gaussian)\n",
    "from sklearn.naive_bayes import GaussianNB\n",
    "model = GaussianNB()\n",
    "\n",
    "# Huấn luyện\n",
    "model.fit(X_train, y_train)\n",
    "\n",
    "# Dự đoán\n",
    "y_pred = model.predict(X_test)"
   ]
  },
  {
   "cell_type": "markdown",
   "id": "e13aa4f3-488c-4bd2-a186-c86ed0a3b542",
   "metadata": {},
   "source": [
    "### 5. Đánh giá hiệu quả của mô hình"
   ]
  },
  {
   "cell_type": "code",
   "execution_count": 22,
   "id": "5e79fbcc-7e71-4786-ae8e-8f8910b1de15",
   "metadata": {},
   "outputs": [
    {
     "name": "stdout",
     "output_type": "stream",
     "text": [
      "Accuracy: 0.9375\n",
      "Confusion Matrix:\n",
      " [[50  2]\n",
      " [ 3 25]]\n",
      "Classification Report:\n",
      "               precision    recall  f1-score   support\n",
      "\n",
      "           0       0.94      0.96      0.95        52\n",
      "           1       0.93      0.89      0.91        28\n",
      "\n",
      "    accuracy                           0.94        80\n",
      "   macro avg       0.93      0.93      0.93        80\n",
      "weighted avg       0.94      0.94      0.94        80\n",
      "\n"
     ]
    }
   ],
   "source": [
    "# Độ chính xác\n",
    "print(\"Accuracy:\", accuracy_score(y_test, y_pred))\n",
    "\n",
    "# Ma trận nhầm lẫn\n",
    "print(\"Confusion Matrix:\\n\", confusion_matrix(y_test, y_pred))\n",
    "\n",
    "# Báo cáo chi tiết\n",
    "print(\"Classification Report:\\n\", classification_report(y_test, y_pred))"
   ]
  },
  {
   "cell_type": "markdown",
   "id": "4f3d69ef-bf6a-4396-a8e7-5a971ec3912c",
   "metadata": {},
   "source": [
    "# KẾT THÚC"
   ]
  },
  {
   "cell_type": "code",
   "execution_count": null,
   "id": "4fecc24d-2e00-498a-9669-6add9b9d67a3",
   "metadata": {},
   "outputs": [],
   "source": []
  }
 ],
 "metadata": {
  "kernelspec": {
   "display_name": "Python [conda env:ml]",
   "language": "python",
   "name": "conda-env-ml-py"
  },
  "language_info": {
   "codemirror_mode": {
    "name": "ipython",
    "version": 3
   },
   "file_extension": ".py",
   "mimetype": "text/x-python",
   "name": "python",
   "nbconvert_exporter": "python",
   "pygments_lexer": "ipython3",
   "version": "3.11.13"
  }
 },
 "nbformat": 4,
 "nbformat_minor": 5
}
