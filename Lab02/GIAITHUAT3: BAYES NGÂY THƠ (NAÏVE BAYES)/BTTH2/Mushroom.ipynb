{
 "cells": [
  {
   "cell_type": "markdown",
   "id": "897a3b85-a174-4612-bdff-dbfa02c6895b",
   "metadata": {},
   "source": [
    "# GIẢI THUẬT 3: BAYES NGÂY THƠ (NAÏVE BAYES)"
   ]
  },
  {
   "cell_type": "markdown",
   "id": "9341e87a-ce11-4b84-a0ce-9f631965e584",
   "metadata": {},
   "source": [
    "## 2.3.4. Bài tập thực hành 2 "
   ]
  },
  {
   "cell_type": "markdown",
   "id": "aa2e5817-993d-4e59-b395-e1e836080783",
   "metadata": {},
   "source": [
    "Xây dựng mô hình Naïve ngây thơ trên tập dữ liệu mushroom. Dữ liệu lấy tại https://www.kaggle.com/datasets/uciml/mushroom-classification/data "
   ]
  },
  {
   "cell_type": "markdown",
   "id": "25490f62-ca74-4a4f-ae1f-2d174f714fa4",
   "metadata": {},
   "source": [
    "### 1. Import thư viện "
   ]
  },
  {
   "cell_type": "code",
   "execution_count": 2,
   "id": "199de75d-1727-47df-97a9-2b57182c8872",
   "metadata": {},
   "outputs": [
    {
     "name": "stdout",
     "output_type": "stream",
     "text": [
      "  class cap-shape cap-surface cap-color bruises odor gill-attachment  \\\n",
      "0     p         x           s         n       t    p               f   \n",
      "1     e         x           s         y       t    a               f   \n",
      "2     e         b           s         w       t    l               f   \n",
      "3     p         x           y         w       t    p               f   \n",
      "4     e         x           s         g       f    n               f   \n",
      "\n",
      "  gill-spacing gill-size gill-color  ... stalk-surface-below-ring  \\\n",
      "0            c         n          k  ...                        s   \n",
      "1            c         b          k  ...                        s   \n",
      "2            c         b          n  ...                        s   \n",
      "3            c         n          n  ...                        s   \n",
      "4            w         b          k  ...                        s   \n",
      "\n",
      "  stalk-color-above-ring stalk-color-below-ring veil-type veil-color  \\\n",
      "0                      w                      w         p          w   \n",
      "1                      w                      w         p          w   \n",
      "2                      w                      w         p          w   \n",
      "3                      w                      w         p          w   \n",
      "4                      w                      w         p          w   \n",
      "\n",
      "  ring-number ring-type spore-print-color population habitat  \n",
      "0           o         p                 k          s       u  \n",
      "1           o         p                 n          n       g  \n",
      "2           o         p                 n          n       m  \n",
      "3           o         p                 k          s       u  \n",
      "4           o         e                 n          a       g  \n",
      "\n",
      "[5 rows x 23 columns]\n",
      "<class 'pandas.core.frame.DataFrame'>\n",
      "RangeIndex: 8124 entries, 0 to 8123\n",
      "Data columns (total 23 columns):\n",
      " #   Column                    Non-Null Count  Dtype \n",
      "---  ------                    --------------  ----- \n",
      " 0   class                     8124 non-null   object\n",
      " 1   cap-shape                 8124 non-null   object\n",
      " 2   cap-surface               8124 non-null   object\n",
      " 3   cap-color                 8124 non-null   object\n",
      " 4   bruises                   8124 non-null   object\n",
      " 5   odor                      8124 non-null   object\n",
      " 6   gill-attachment           8124 non-null   object\n",
      " 7   gill-spacing              8124 non-null   object\n",
      " 8   gill-size                 8124 non-null   object\n",
      " 9   gill-color                8124 non-null   object\n",
      " 10  stalk-shape               8124 non-null   object\n",
      " 11  stalk-root                8124 non-null   object\n",
      " 12  stalk-surface-above-ring  8124 non-null   object\n",
      " 13  stalk-surface-below-ring  8124 non-null   object\n",
      " 14  stalk-color-above-ring    8124 non-null   object\n",
      " 15  stalk-color-below-ring    8124 non-null   object\n",
      " 16  veil-type                 8124 non-null   object\n",
      " 17  veil-color                8124 non-null   object\n",
      " 18  ring-number               8124 non-null   object\n",
      " 19  ring-type                 8124 non-null   object\n",
      " 20  spore-print-color         8124 non-null   object\n",
      " 21  population                8124 non-null   object\n",
      " 22  habitat                   8124 non-null   object\n",
      "dtypes: object(23)\n",
      "memory usage: 1.4+ MB\n",
      "None\n"
     ]
    }
   ],
   "source": [
    "import pandas as pd\n",
    "\n",
    "# Đọc dữ liệu\n",
    "data = pd.read_csv(\"mushrooms.csv\")\n",
    "\n",
    "print(data.head())\n",
    "print(data.info())"
   ]
  },
  {
   "cell_type": "markdown",
   "id": "05df7fb5-aa2f-4af8-8d8b-c32d95772575",
   "metadata": {},
   "source": [
    "### 2. Tiền xử lý dữ liệu"
   ]
  },
  {
   "cell_type": "code",
   "execution_count": 3,
   "id": "96286247-723e-4cb2-bfff-882e73cf9389",
   "metadata": {},
   "outputs": [
    {
     "name": "stdout",
     "output_type": "stream",
     "text": [
      "   class  cap-shape  cap-surface  cap-color  bruises  odor  gill-attachment  \\\n",
      "0      1          5            2          4        1     6                1   \n",
      "1      0          5            2          9        1     0                1   \n",
      "2      0          0            2          8        1     3                1   \n",
      "3      1          5            3          8        1     6                1   \n",
      "4      0          5            2          3        0     5                1   \n",
      "\n",
      "   gill-spacing  gill-size  gill-color  ...  stalk-surface-below-ring  \\\n",
      "0             0          1           4  ...                         2   \n",
      "1             0          0           4  ...                         2   \n",
      "2             0          0           5  ...                         2   \n",
      "3             0          1           5  ...                         2   \n",
      "4             1          0           4  ...                         2   \n",
      "\n",
      "   stalk-color-above-ring  stalk-color-below-ring  veil-type  veil-color  \\\n",
      "0                       7                       7          0           2   \n",
      "1                       7                       7          0           2   \n",
      "2                       7                       7          0           2   \n",
      "3                       7                       7          0           2   \n",
      "4                       7                       7          0           2   \n",
      "\n",
      "   ring-number  ring-type  spore-print-color  population  habitat  \n",
      "0            1          4                  2           3        5  \n",
      "1            1          4                  3           2        1  \n",
      "2            1          4                  3           2        3  \n",
      "3            1          4                  2           3        5  \n",
      "4            1          0                  3           0        1  \n",
      "\n",
      "[5 rows x 23 columns]\n"
     ]
    }
   ],
   "source": [
    "from sklearn.preprocessing import LabelEncoder\n",
    "\n",
    "# Mã hóa toàn bộ dữ liệu\n",
    "labelencoder = LabelEncoder()\n",
    "for col in data.columns:\n",
    "    data[col] = labelencoder.fit_transform(data[col])\n",
    "\n",
    "print(data.head())"
   ]
  },
  {
   "cell_type": "markdown",
   "id": "a63e6b75-5b77-49ee-9f8e-3c6cb1e04613",
   "metadata": {},
   "source": [
    "### 3. Tách biến độc lập (X) và biến mục tiêu (y)"
   ]
  },
  {
   "cell_type": "code",
   "execution_count": 4,
   "id": "d63c05d5-2d5b-41b1-8680-09ca65b4444f",
   "metadata": {},
   "outputs": [],
   "source": [
    "X = data.drop('class', axis=1)   # class: edible=e, poisonous=p\n",
    "y = data['class']"
   ]
  },
  {
   "cell_type": "markdown",
   "id": "b3aa779a-a26f-42c6-8228-5de605fceb6f",
   "metadata": {},
   "source": [
    "### 4. Chia tập train/test"
   ]
  },
  {
   "cell_type": "code",
   "execution_count": 5,
   "id": "d3917880-b8b5-4abb-8aad-0d56522a7050",
   "metadata": {},
   "outputs": [],
   "source": [
    "from sklearn.model_selection import train_test_split\n",
    "\n",
    "X_train, X_test, y_train, y_test = train_test_split(X, y, \n",
    "                                                    test_size=0.3, \n",
    "                                                    random_state=42)"
   ]
  },
  {
   "cell_type": "markdown",
   "id": "43096465-3eaa-4164-9600-9211f8a43ce6",
   "metadata": {},
   "source": [
    "### 5. Xây dựng mô hình Naïve Bayes (GaussianNB hoặc MultinomialNB)\n",
    "Vì dữ liệu toàn là categorical đã mã hóa số, dùng MultinomialNB sẽ hợp lý hơn"
   ]
  },
  {
   "cell_type": "code",
   "execution_count": 8,
   "id": "6db15ca8-a6ac-4575-8937-2d3dd6e3cc52",
   "metadata": {},
   "outputs": [],
   "source": [
    "from sklearn.naive_bayes import MultinomialNB\n",
    "\n",
    "model = MultinomialNB()\n",
    "model.fit(X_train, y_train)\n",
    "\n",
    "y_pred = model.predict(X_test)"
   ]
  },
  {
   "cell_type": "markdown",
   "id": "b009556f-6e64-4a69-ac1c-9450ab10ad9c",
   "metadata": {},
   "source": [
    "### 6. Đánh giá hiệu quả của mô hình"
   ]
  },
  {
   "cell_type": "code",
   "execution_count": 9,
   "id": "46589689-5690-4d98-a163-d5f777a1b2b0",
   "metadata": {},
   "outputs": [
    {
     "name": "stdout",
     "output_type": "stream",
     "text": [
      "Accuracy: 0.8027071369975389\n",
      "Confusion Matrix:\n",
      " [[1176   81]\n",
      " [ 400  781]]\n",
      "Classification Report:\n",
      "               precision    recall  f1-score   support\n",
      "\n",
      "           0       0.75      0.94      0.83      1257\n",
      "           1       0.91      0.66      0.76      1181\n",
      "\n",
      "    accuracy                           0.80      2438\n",
      "   macro avg       0.83      0.80      0.80      2438\n",
      "weighted avg       0.82      0.80      0.80      2438\n",
      "\n"
     ]
    }
   ],
   "source": [
    "from sklearn.metrics import accuracy_score, confusion_matrix, classification_report\n",
    "\n",
    "print(\"Accuracy:\", accuracy_score(y_test, y_pred))\n",
    "print(\"Confusion Matrix:\\n\", confusion_matrix(y_test, y_pred))\n",
    "print(\"Classification Report:\\n\", classification_report(y_test, y_pred))"
   ]
  },
  {
   "cell_type": "markdown",
   "id": "e8f04286-9f85-4160-b0fa-45fb2536db60",
   "metadata": {},
   "source": [
    "# Kết thúc"
   ]
  },
  {
   "cell_type": "code",
   "execution_count": null,
   "id": "c06599e2-d422-4770-aa62-4a944d90e031",
   "metadata": {},
   "outputs": [],
   "source": []
  }
 ],
 "metadata": {
  "kernelspec": {
   "display_name": "Python [conda env:ml]",
   "language": "python",
   "name": "conda-env-ml-py"
  },
  "language_info": {
   "codemirror_mode": {
    "name": "ipython",
    "version": 3
   },
   "file_extension": ".py",
   "mimetype": "text/x-python",
   "name": "python",
   "nbconvert_exporter": "python",
   "pygments_lexer": "ipython3",
   "version": "3.11.13"
  }
 },
 "nbformat": 4,
 "nbformat_minor": 5
}
