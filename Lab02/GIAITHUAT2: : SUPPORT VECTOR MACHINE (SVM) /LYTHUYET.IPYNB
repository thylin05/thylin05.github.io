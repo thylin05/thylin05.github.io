{
 "cells": [
  {
   "cell_type": "markdown",
   "id": "6d9b0b67",
   "metadata": {},
   "source": [
    "### 1. Nạp thư viện"
   ]
  },
  {
   "cell_type": "code",
   "execution_count": 1,
   "id": "b202d6a8",
   "metadata": {},
   "outputs": [
    {
     "name": "stdout",
     "output_type": "stream",
     "text": [
      ".. _iris_dataset:\n",
      "\n",
      "Iris plants dataset\n",
      "--------------------\n",
      "\n",
      "**Data Set Characteristics:**\n",
      "\n",
      ":Number of Instances: 150 (50 in each of three classes)\n",
      ":Number of Attributes: 4 numeric, predictive attributes and the class\n",
      ":Attribute Information:\n",
      "    - sepal length in cm\n",
      "    - sepal width in cm\n",
      "    - petal length in cm\n",
      "    - petal width in cm\n",
      "    - class:\n",
      "            - Iris-Setosa\n",
      "            - Iris-Versicolour\n",
      "            - Iris-Virginica\n",
      "\n",
      ":Summary Statistics:\n",
      "\n",
      "============== ==== ==== ======= ===== ====================\n",
      "                Min  Max   Mean    SD   Class Correlation\n",
      "============== ==== ==== ======= ===== ====================\n",
      "sepal length:   4.3  7.9   5.84   0.83    0.7826\n",
      "sepal width:    2.0  4.4   3.05   0.43   -0.4194\n",
      "petal length:   1.0  6.9   3.76   1.76    0.9490  (high!)\n",
      "petal width:    0.1  2.5   1.20   0.76    0.9565  (high!)\n",
      "============== ==== ==== ======= ===== ====================\n",
      "\n",
      ":Missing Attribute Values: None\n",
      ":Class Distribution: 33.3% for each of 3 classes.\n",
      ":Creator: R.A. Fisher\n",
      ":Donor: Michael Marshall (MARSHALL%PLU@io.arc.nasa.gov)\n",
      ":Date: July, 1988\n",
      "\n",
      "The famous Iris database, first used by Sir R.A. Fisher. The dataset is taken\n",
      "from Fisher's paper. Note that it's the same as in R, but not as in the UCI\n",
      "Machine Learning Repository, which has two wrong data points.\n",
      "\n",
      "This is perhaps the best known database to be found in the\n",
      "pattern recognition literature.  Fisher's paper is a classic in the field and\n",
      "is referenced frequently to this day.  (See Duda & Hart, for example.)  The\n",
      "data set contains 3 classes of 50 instances each, where each class refers to a\n",
      "type of iris plant.  One class is linearly separable from the other 2; the\n",
      "latter are NOT linearly separable from each other.\n",
      "\n",
      ".. dropdown:: References\n",
      "\n",
      "  - Fisher, R.A. \"The use of multiple measurements in taxonomic problems\"\n",
      "    Annual Eugenics, 7, Part II, 179-188 (1936); also in \"Contributions to\n",
      "    Mathematical Statistics\" (John Wiley, NY, 1950).\n",
      "  - Duda, R.O., & Hart, P.E. (1973) Pattern Classification and Scene Analysis.\n",
      "    (Q327.D83) John Wiley & Sons.  ISBN 0-471-22361-1.  See page 218.\n",
      "  - Dasarathy, B.V. (1980) \"Nosing Around the Neighborhood: A New System\n",
      "    Structure and Classification Rule for Recognition in Partially Exposed\n",
      "    Environments\".  IEEE Transactions on Pattern Analysis and Machine\n",
      "    Intelligence, Vol. PAMI-2, No. 1, 67-71.\n",
      "  - Gates, G.W. (1972) \"The Reduced Nearest Neighbor Rule\".  IEEE Transactions\n",
      "    on Information Theory, May 1972, 431-433.\n",
      "  - See also: 1988 MLC Proceedings, 54-64.  Cheeseman et al\"s AUTOCLASS II\n",
      "    conceptual clustering system finds 3 classes in the data.\n",
      "  - Many, many more ...\n",
      "\n",
      "Training accuracy: 0.95\n",
      "Validation accuracy: 0.9666666666666667\n"
     ]
    }
   ],
   "source": [
    "import numpy as np \n",
    "from sklearn import datasets \n",
    "from sklearn.model_selection import train_test_split \n",
    "# Download&Load dữ liệu iris từ datasets của scikit-learn \n",
    "iris = datasets.load_iris() \n",
    "# Hiển thị mô ta dữ liệu, chỉ có trong các bộ dữ liệu chuẩn và mở để học tập và nghiên cứu \n",
    "print(iris.DESCR) \n",
    "# Từ tập dữ liệu ban đầu, tách lấy ma trận biểu diễn các đặc trưng và nhãn. \n",
    "data = iris.data \n",
    "target = iris.target \n",
    "# TODO: Chia dữ liệu và nhãn thành 2 tập dữ liệu huấn luyện và dữ liệu kiểm tra theo tỉ lệ 80:20 \n",
    "X_train, X_test, y_train, y_test = train_test_split(data, target, \n",
    "test_size                  \n",
    "                                        = 0.2, random_state=101) \n",
    "from sklearn import svm \n",
    "# khởi tạo mô hình phân lớp \n",
    "clf = svm.SVC() \n",
    "# Sử dụng phương thức 'fit' để huấn luyện mô hình với dữ liệu huấn luyện và nhãn huấn luyện \n",
    "# fit (X,Y) với X là tập các đối tượng, Y là tập nhãn tương ứng của đối tượng. \n",
    "clf.fit(X_train, y_train)\n",
    "# Tính độ chính xác trên tập huấn luyện và tập kiểm tra \n",
    "train_acc = clf.score(X_train,y_train) \n",
    "val_acc = clf.score(X_test,y_test) \n",
    "print('Training accuracy: {}'.format(train_acc)) \n",
    "print('Validation accuracy: {}'.format(val_acc)) "
   ]
  },
  {
   "cell_type": "code",
   "execution_count": 3,
   "id": "e969e82a",
   "metadata": {},
   "outputs": [
    {
     "name": "stdout",
     "output_type": "stream",
     "text": [
      "Best validation accuracy : 1.0 with kernel: linear\n"
     ]
    }
   ],
   "source": [
    "kernels = ['linear', 'poly', 'rbf', 'sigmoid'] \n",
    "best_svm = None \n",
    "best_val_acc = -1 \n",
    "best_kernel = None \n",
    "# Huấn luyện các mô hình dựa trên dữ liệu huấn luyện và tham số kernel \n",
    "# Tính toán độ chính xác trên tập huấn luyện và tập kiểm tra để tìm được mô hình tốt nhất \n",
    "for i in range(4): \n",
    "    clf = svm.SVC(kernel=kernels[i], probability=True) \n",
    "    clf.fit(X_train, y_train) \n",
    "    tmp_val_acc = clf.score(X_test, y_test) \n",
    "    if (tmp_val_acc > best_val_acc): \n",
    "        best_val_acc = tmp_val_acc \n",
    "        best_svm = clf \n",
    "        best_kernel = kernels[i] \n",
    "# Hiển thị mô hình tốt nhất cùng với độ chính xác \n",
    "print(\"Best validation accuracy : {} with kernel: {}\".format(best_val_acc, \n",
    "best_kernel))    "
   ]
  }
 ],
 "metadata": {
  "kernelspec": {
   "display_name": "Python 3",
   "language": "python",
   "name": "python3"
  },
  "language_info": {
   "codemirror_mode": {
    "name": "ipython",
    "version": 3
   },
   "file_extension": ".py",
   "mimetype": "text/x-python",
   "name": "python",
   "nbconvert_exporter": "python",
   "pygments_lexer": "ipython3",
   "version": "3.12.1"
  }
 },
 "nbformat": 4,
 "nbformat_minor": 5
}
