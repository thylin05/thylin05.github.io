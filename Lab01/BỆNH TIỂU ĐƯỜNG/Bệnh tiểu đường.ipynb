{
 "cells": [
  {
   "cell_type": "markdown",
   "id": "43f2d369",
   "metadata": {},
   "source": [
    "# THỐNG KÊ MÔ TẢ - Bài tập thực hành 2 "
   ]
  },
  {
   "cell_type": "markdown",
   "id": "683595d5",
   "metadata": {},
   "source": [
    "Thực hiện thống kê mô tả trên tập dữ liệu về bệnh tiểu đường. Dữ liệu lấy tại https://www.kaggle.com/code/vincentlugat/pima-indians-diabetes-eda-prediction-0-906 "
   ]
  },
  {
   "cell_type": "code",
   "execution_count": null,
   "id": "726c4845",
   "metadata": {},
   "outputs": [
    {
     "name": "stdout",
     "output_type": "stream",
     "text": [
      "Requirement already satisfied: plotly in /home/codespace/.local/lib/python3.12/site-packages (6.2.0)\n",
      "Requirement already satisfied: narwhals>=1.15.1 in /home/codespace/.local/lib/python3.12/site-packages (from plotly) (1.46.0)\n",
      "Requirement already satisfied: packaging in /home/codespace/.local/lib/python3.12/site-packages (from plotly) (25.0)\n",
      "\n",
      "\u001b[1m[\u001b[0m\u001b[34;49mnotice\u001b[0m\u001b[1;39;49m]\u001b[0m\u001b[39;49m A new release of pip is available: \u001b[0m\u001b[31;49m25.1.1\u001b[0m\u001b[39;49m -> \u001b[0m\u001b[32;49m25.2\u001b[0m\n",
      "\u001b[1m[\u001b[0m\u001b[34;49mnotice\u001b[0m\u001b[1;39;49m]\u001b[0m\u001b[39;49m To update, run: \u001b[0m\u001b[32;49mpython -m pip install --upgrade pip\u001b[0m\n",
      "Note: you may need to restart the kernel to use updated packages.\n"
     ]
    }
   ],
   "source": [
    "pip install plotly"
   ]
  },
  {
   "cell_type": "markdown",
   "id": "a6cbf9cd",
   "metadata": {},
   "source": [
    "# 1. Nạp thư viện"
   ]
  },
  {
   "cell_type": "code",
   "execution_count": 1,
   "id": "4a43e352",
   "metadata": {},
   "outputs": [
    {
     "data": {
      "text/html": [
       "        <script type=\"text/javascript\">\n",
       "        window.PlotlyConfig = {MathJaxConfig: 'local'};\n",
       "        if (window.MathJax && window.MathJax.Hub && window.MathJax.Hub.Config) {window.MathJax.Hub.Config({SVG: {font: \"STIX-Web\"}});}\n",
       "        </script>\n",
       "        <script type=\"module\">import \"https://cdn.plot.ly/plotly-3.0.1.min\"</script>\n",
       "        "
      ]
     },
     "metadata": {},
     "output_type": "display_data"
    }
   ],
   "source": [
    "import plotly.graph_objs as go\n",
    "from plotly.subplots import make_subplots\n",
    "import pandas as pd\n",
    "import numpy as np\n",
    "import plotly.offline as py\n",
    "import plotly.graph_objs as go\n",
    "\n",
    "py.init_notebook_mode(connected=True)"
   ]
  },
  {
   "cell_type": "markdown",
   "id": "c5f5e857",
   "metadata": {},
   "source": [
    "# 2. Tải dữ liệu"
   ]
  },
  {
   "cell_type": "code",
   "execution_count": 2,
   "id": "454e879b",
   "metadata": {},
   "outputs": [
    {
     "name": "stdout",
     "output_type": "stream",
     "text": [
      "<class 'pandas.core.frame.DataFrame'>\n",
      "RangeIndex: 768 entries, 0 to 767\n",
      "Data columns (total 9 columns):\n",
      " #   Column                    Non-Null Count  Dtype  \n",
      "---  ------                    --------------  -----  \n",
      " 0   Pregnancies               768 non-null    int64  \n",
      " 1   Glucose                   768 non-null    int64  \n",
      " 2   BloodPressure             768 non-null    int64  \n",
      " 3   SkinThickness             768 non-null    int64  \n",
      " 4   Insulin                   768 non-null    int64  \n",
      " 5   BMI                       768 non-null    float64\n",
      " 6   DiabetesPedigreeFunction  768 non-null    float64\n",
      " 7   Age                       768 non-null    int64  \n",
      " 8   Outcome                   768 non-null    int64  \n",
      "dtypes: float64(2), int64(7)\n",
      "memory usage: 54.1 KB\n"
     ]
    },
    {
     "data": {
      "text/plain": [
       "None"
      ]
     },
     "metadata": {},
     "output_type": "display_data"
    },
    {
     "data": {
      "text/html": [
       "<div>\n",
       "<style scoped>\n",
       "    .dataframe tbody tr th:only-of-type {\n",
       "        vertical-align: middle;\n",
       "    }\n",
       "\n",
       "    .dataframe tbody tr th {\n",
       "        vertical-align: top;\n",
       "    }\n",
       "\n",
       "    .dataframe thead th {\n",
       "        text-align: right;\n",
       "    }\n",
       "</style>\n",
       "<table border=\"1\" class=\"dataframe\">\n",
       "  <thead>\n",
       "    <tr style=\"text-align: right;\">\n",
       "      <th></th>\n",
       "      <th>Pregnancies</th>\n",
       "      <th>Glucose</th>\n",
       "      <th>BloodPressure</th>\n",
       "      <th>SkinThickness</th>\n",
       "      <th>Insulin</th>\n",
       "      <th>BMI</th>\n",
       "      <th>DiabetesPedigreeFunction</th>\n",
       "      <th>Age</th>\n",
       "      <th>Outcome</th>\n",
       "    </tr>\n",
       "  </thead>\n",
       "  <tbody>\n",
       "    <tr>\n",
       "      <th>0</th>\n",
       "      <td>6</td>\n",
       "      <td>148</td>\n",
       "      <td>72</td>\n",
       "      <td>35</td>\n",
       "      <td>0</td>\n",
       "      <td>33.6</td>\n",
       "      <td>0.627</td>\n",
       "      <td>50</td>\n",
       "      <td>1</td>\n",
       "    </tr>\n",
       "    <tr>\n",
       "      <th>1</th>\n",
       "      <td>1</td>\n",
       "      <td>85</td>\n",
       "      <td>66</td>\n",
       "      <td>29</td>\n",
       "      <td>0</td>\n",
       "      <td>26.6</td>\n",
       "      <td>0.351</td>\n",
       "      <td>31</td>\n",
       "      <td>0</td>\n",
       "    </tr>\n",
       "    <tr>\n",
       "      <th>2</th>\n",
       "      <td>8</td>\n",
       "      <td>183</td>\n",
       "      <td>64</td>\n",
       "      <td>0</td>\n",
       "      <td>0</td>\n",
       "      <td>23.3</td>\n",
       "      <td>0.672</td>\n",
       "      <td>32</td>\n",
       "      <td>1</td>\n",
       "    </tr>\n",
       "    <tr>\n",
       "      <th>3</th>\n",
       "      <td>1</td>\n",
       "      <td>89</td>\n",
       "      <td>66</td>\n",
       "      <td>23</td>\n",
       "      <td>94</td>\n",
       "      <td>28.1</td>\n",
       "      <td>0.167</td>\n",
       "      <td>21</td>\n",
       "      <td>0</td>\n",
       "    </tr>\n",
       "    <tr>\n",
       "      <th>4</th>\n",
       "      <td>0</td>\n",
       "      <td>137</td>\n",
       "      <td>40</td>\n",
       "      <td>35</td>\n",
       "      <td>168</td>\n",
       "      <td>43.1</td>\n",
       "      <td>2.288</td>\n",
       "      <td>33</td>\n",
       "      <td>1</td>\n",
       "    </tr>\n",
       "  </tbody>\n",
       "</table>\n",
       "</div>"
      ],
      "text/plain": [
       "   Pregnancies  Glucose  BloodPressure  SkinThickness  Insulin   BMI  \\\n",
       "0            6      148             72             35        0  33.6   \n",
       "1            1       85             66             29        0  26.6   \n",
       "2            8      183             64              0        0  23.3   \n",
       "3            1       89             66             23       94  28.1   \n",
       "4            0      137             40             35      168  43.1   \n",
       "\n",
       "   DiabetesPedigreeFunction  Age  Outcome  \n",
       "0                     0.627   50        1  \n",
       "1                     0.351   31        0  \n",
       "2                     0.672   32        1  \n",
       "3                     0.167   21        0  \n",
       "4                     2.288   33        1  "
      ]
     },
     "metadata": {},
     "output_type": "display_data"
    }
   ],
   "source": [
    "\n",
    "data = pd.read_csv('diabetes.csv')\n",
    "display(data.info(),data.head())"
   ]
  },
  {
   "cell_type": "markdown",
   "id": "9694e4e8",
   "metadata": {},
   "source": [
    "### 3. Kiểm tra dữ liệu"
   ]
  },
  {
   "cell_type": "code",
   "execution_count": 3,
   "id": "f88387fb",
   "metadata": {},
   "outputs": [
    {
     "name": "stdout",
     "output_type": "stream",
     "text": [
      "\n",
      "Số lượng giá trị = 0 ở các cột nghi ngờ:\n",
      "Glucose            5\n",
      "BloodPressure     35\n",
      "SkinThickness    227\n",
      "Insulin          374\n",
      "BMI               11\n",
      "dtype: int64\n",
      "\n",
      "--- Tỷ lệ giá trị 0 (giả missing) theo phần trăm ---\n",
      "Glucose           0.65\n",
      "BloodPressure     4.56\n",
      "SkinThickness    29.56\n",
      "Insulin          48.70\n",
      "BMI               1.43\n",
      "dtype: float64\n",
      "\n",
      "Số giá trị bị thiếu (NaN) từng cột:\n",
      "Pregnancies                 0\n",
      "Glucose                     0\n",
      "BloodPressure               0\n",
      "SkinThickness               0\n",
      "Insulin                     0\n",
      "BMI                         0\n",
      "DiabetesPedigreeFunction    0\n",
      "Age                         0\n",
      "Outcome                     0\n",
      "dtype: int64\n"
     ]
    }
   ],
   "source": [
    "# Kiểm tra số giá trị bằng 0 (Missing value giả định)\n",
    "cols_with_zero = [\"Glucose\", \"BloodPressure\", \"SkinThickness\", \"Insulin\", \"BMI\"]\n",
    "print(\"\\nSố lượng giá trị = 0 ở các cột nghi ngờ:\")\n",
    "print((data[cols_with_zero] == 0).sum())\n",
    "\n",
    "#Tỷ lệ missing giả định\n",
    "print(\"\\n--- Tỷ lệ giá trị 0 (giả missing) theo phần trăm ---\")\n",
    "print(((data[cols_with_zero] == 0).sum() / len(data) * 100).round(2))\n",
    "\n",
    "\n",
    "#Kiểm tra giá trị bị thiếu NaN\n",
    "print(\"\\nSố giá trị bị thiếu (NaN) từng cột:\")\n",
    "print(data.isnull().sum())"
   ]
  },
  {
   "cell_type": "markdown",
   "id": "9ae6f635",
   "metadata": {},
   "source": [
    "### 4. Xử lí dữ liệu"
   ]
  },
  {
   "cell_type": "code",
   "execution_count": 4,
   "id": "76fc904c",
   "metadata": {},
   "outputs": [
    {
     "name": "stdout",
     "output_type": "stream",
     "text": [
      "\n",
      " Đã xử lý giá trị 0 (thay bằng median của từng biến).\n",
      "   Glucose  BloodPressure  SkinThickness  Insulin   BMI\n",
      "0      148             72             35      125  33.6\n",
      "1       85             66             29      125  26.6\n",
      "2      183             64             29      125  23.3\n",
      "3       89             66             23       94  28.1\n",
      "4      137             40             35      168  43.1\n"
     ]
    }
   ],
   "source": [
    "#Thay giá trị 0 trong các cột nghi ngờ bằng giá trị trung vị (median)\n",
    "for col in cols_with_zero:\n",
    "    median_val = data[col][data[col] > 0].median()\n",
    "    data[col] = data[col].replace(0, median_val)\n",
    "\n",
    "\n",
    "print(\"\\n Đã xử lý giá trị 0 (thay bằng median của từng biến).\")\n",
    "print(data[cols_with_zero].head())"
   ]
  },
  {
   "cell_type": "code",
   "execution_count": 5,
   "id": "1f438410",
   "metadata": {},
   "outputs": [
    {
     "name": "stdout",
     "output_type": "stream",
     "text": [
      "Requirement already satisfied: dataframe-image in /usr/local/python/3.12.1/lib/python3.12/site-packages (0.2.7)\n",
      "Requirement already satisfied: pandas>=0.24 in /home/codespace/.local/lib/python3.12/site-packages (from dataframe-image) (2.3.1)\n",
      "Requirement already satisfied: nbconvert>=5 in /home/codespace/.local/lib/python3.12/site-packages (from dataframe-image) (7.16.6)\n",
      "Requirement already satisfied: aiohttp>=3.10.2 in /usr/local/python/3.12.1/lib/python3.12/site-packages (from dataframe-image) (3.13.1)\n",
      "Requirement already satisfied: requests in /home/codespace/.local/lib/python3.12/site-packages (from dataframe-image) (2.32.4)\n",
      "Requirement already satisfied: pillow in /home/codespace/.local/lib/python3.12/site-packages (from dataframe-image) (11.3.0)\n",
      "Requirement already satisfied: packaging in /home/codespace/.local/lib/python3.12/site-packages (from dataframe-image) (25.0)\n",
      "Requirement already satisfied: mistune in /home/codespace/.local/lib/python3.12/site-packages (from dataframe-image) (3.1.3)\n",
      "Requirement already satisfied: lxml in /usr/local/python/3.12.1/lib/python3.12/site-packages (from dataframe-image) (6.0.2)\n",
      "Requirement already satisfied: beautifulsoup4 in /home/codespace/.local/lib/python3.12/site-packages (from dataframe-image) (4.13.4)\n",
      "Requirement already satisfied: cssutils in /usr/local/python/3.12.1/lib/python3.12/site-packages (from dataframe-image) (2.11.1)\n",
      "Requirement already satisfied: playwright in /usr/local/python/3.12.1/lib/python3.12/site-packages (from dataframe-image) (1.55.0)\n",
      "Requirement already satisfied: cssselect in /usr/local/python/3.12.1/lib/python3.12/site-packages (from dataframe-image) (1.3.0)\n",
      "Requirement already satisfied: aiohappyeyeballs>=2.5.0 in /usr/local/python/3.12.1/lib/python3.12/site-packages (from aiohttp>=3.10.2->dataframe-image) (2.6.1)\n",
      "Requirement already satisfied: aiosignal>=1.4.0 in /usr/local/python/3.12.1/lib/python3.12/site-packages (from aiohttp>=3.10.2->dataframe-image) (1.4.0)\n",
      "Requirement already satisfied: attrs>=17.3.0 in /home/codespace/.local/lib/python3.12/site-packages (from aiohttp>=3.10.2->dataframe-image) (25.3.0)\n",
      "Requirement already satisfied: frozenlist>=1.1.1 in /usr/local/python/3.12.1/lib/python3.12/site-packages (from aiohttp>=3.10.2->dataframe-image) (1.8.0)\n",
      "Requirement already satisfied: multidict<7.0,>=4.5 in /usr/local/python/3.12.1/lib/python3.12/site-packages (from aiohttp>=3.10.2->dataframe-image) (6.7.0)\n",
      "Requirement already satisfied: propcache>=0.2.0 in /usr/local/python/3.12.1/lib/python3.12/site-packages (from aiohttp>=3.10.2->dataframe-image) (0.4.1)\n",
      "Requirement already satisfied: yarl<2.0,>=1.17.0 in /usr/local/python/3.12.1/lib/python3.12/site-packages (from aiohttp>=3.10.2->dataframe-image) (1.22.0)\n",
      "Requirement already satisfied: idna>=2.0 in /home/codespace/.local/lib/python3.12/site-packages (from yarl<2.0,>=1.17.0->aiohttp>=3.10.2->dataframe-image) (3.10)\n",
      "Requirement already satisfied: typing-extensions>=4.2 in /home/codespace/.local/lib/python3.12/site-packages (from aiosignal>=1.4.0->aiohttp>=3.10.2->dataframe-image) (4.14.1)\n",
      "Requirement already satisfied: bleach!=5.0.0 in /home/codespace/.local/lib/python3.12/site-packages (from bleach[css]!=5.0.0->nbconvert>=5->dataframe-image) (6.2.0)\n",
      "Requirement already satisfied: defusedxml in /home/codespace/.local/lib/python3.12/site-packages (from nbconvert>=5->dataframe-image) (0.7.1)\n",
      "Requirement already satisfied: jinja2>=3.0 in /home/codespace/.local/lib/python3.12/site-packages (from nbconvert>=5->dataframe-image) (3.1.6)\n",
      "Requirement already satisfied: jupyter-core>=4.7 in /home/codespace/.local/lib/python3.12/site-packages (from nbconvert>=5->dataframe-image) (5.8.1)\n",
      "Requirement already satisfied: jupyterlab-pygments in /home/codespace/.local/lib/python3.12/site-packages (from nbconvert>=5->dataframe-image) (0.3.0)\n",
      "Requirement already satisfied: markupsafe>=2.0 in /home/codespace/.local/lib/python3.12/site-packages (from nbconvert>=5->dataframe-image) (3.0.2)\n",
      "Requirement already satisfied: nbclient>=0.5.0 in /home/codespace/.local/lib/python3.12/site-packages (from nbconvert>=5->dataframe-image) (0.10.2)\n",
      "Requirement already satisfied: nbformat>=5.7 in /home/codespace/.local/lib/python3.12/site-packages (from nbconvert>=5->dataframe-image) (5.10.4)\n",
      "Requirement already satisfied: pandocfilters>=1.4.1 in /home/codespace/.local/lib/python3.12/site-packages (from nbconvert>=5->dataframe-image) (1.5.1)\n",
      "Requirement already satisfied: pygments>=2.4.1 in /home/codespace/.local/lib/python3.12/site-packages (from nbconvert>=5->dataframe-image) (2.19.2)\n",
      "Requirement already satisfied: traitlets>=5.1 in /home/codespace/.local/lib/python3.12/site-packages (from nbconvert>=5->dataframe-image) (5.14.3)\n",
      "Requirement already satisfied: webencodings in /home/codespace/.local/lib/python3.12/site-packages (from bleach!=5.0.0->bleach[css]!=5.0.0->nbconvert>=5->dataframe-image) (0.5.1)\n",
      "Requirement already satisfied: tinycss2<1.5,>=1.1.0 in /home/codespace/.local/lib/python3.12/site-packages (from bleach[css]!=5.0.0->nbconvert>=5->dataframe-image) (1.4.0)\n",
      "Requirement already satisfied: platformdirs>=2.5 in /home/codespace/.local/lib/python3.12/site-packages (from jupyter-core>=4.7->nbconvert>=5->dataframe-image) (4.3.8)\n",
      "Requirement already satisfied: jupyter-client>=6.1.12 in /home/codespace/.local/lib/python3.12/site-packages (from nbclient>=0.5.0->nbconvert>=5->dataframe-image) (8.6.3)\n",
      "Requirement already satisfied: python-dateutil>=2.8.2 in /home/codespace/.local/lib/python3.12/site-packages (from jupyter-client>=6.1.12->nbclient>=0.5.0->nbconvert>=5->dataframe-image) (2.9.0.post0)\n",
      "Requirement already satisfied: pyzmq>=23.0 in /home/codespace/.local/lib/python3.12/site-packages (from jupyter-client>=6.1.12->nbclient>=0.5.0->nbconvert>=5->dataframe-image) (27.0.0)\n",
      "Requirement already satisfied: tornado>=6.2 in /home/codespace/.local/lib/python3.12/site-packages (from jupyter-client>=6.1.12->nbclient>=0.5.0->nbconvert>=5->dataframe-image) (6.5.1)\n",
      "Requirement already satisfied: fastjsonschema>=2.15 in /home/codespace/.local/lib/python3.12/site-packages (from nbformat>=5.7->nbconvert>=5->dataframe-image) (2.21.1)\n",
      "Requirement already satisfied: jsonschema>=2.6 in /home/codespace/.local/lib/python3.12/site-packages (from nbformat>=5.7->nbconvert>=5->dataframe-image) (4.24.0)\n",
      "Requirement already satisfied: jsonschema-specifications>=2023.03.6 in /home/codespace/.local/lib/python3.12/site-packages (from jsonschema>=2.6->nbformat>=5.7->nbconvert>=5->dataframe-image) (2025.4.1)\n",
      "Requirement already satisfied: referencing>=0.28.4 in /home/codespace/.local/lib/python3.12/site-packages (from jsonschema>=2.6->nbformat>=5.7->nbconvert>=5->dataframe-image) (0.36.2)\n",
      "Requirement already satisfied: rpds-py>=0.7.1 in /home/codespace/.local/lib/python3.12/site-packages (from jsonschema>=2.6->nbformat>=5.7->nbconvert>=5->dataframe-image) (0.26.0)\n",
      "Requirement already satisfied: numpy>=1.26.0 in /home/codespace/.local/lib/python3.12/site-packages (from pandas>=0.24->dataframe-image) (2.3.1)\n",
      "Requirement already satisfied: pytz>=2020.1 in /home/codespace/.local/lib/python3.12/site-packages (from pandas>=0.24->dataframe-image) (2025.2)\n",
      "Requirement already satisfied: tzdata>=2022.7 in /home/codespace/.local/lib/python3.12/site-packages (from pandas>=0.24->dataframe-image) (2025.2)\n",
      "Requirement already satisfied: six>=1.5 in /home/codespace/.local/lib/python3.12/site-packages (from python-dateutil>=2.8.2->jupyter-client>=6.1.12->nbclient>=0.5.0->nbconvert>=5->dataframe-image) (1.17.0)\n",
      "Requirement already satisfied: soupsieve>1.2 in /home/codespace/.local/lib/python3.12/site-packages (from beautifulsoup4->dataframe-image) (2.7)\n",
      "Requirement already satisfied: more-itertools in /usr/local/python/3.12.1/lib/python3.12/site-packages (from cssutils->dataframe-image) (10.8.0)\n",
      "Requirement already satisfied: pyee<14,>=13 in /usr/local/python/3.12.1/lib/python3.12/site-packages (from playwright->dataframe-image) (13.0.0)\n",
      "Requirement already satisfied: greenlet<4.0.0,>=3.1.1 in /usr/local/python/3.12.1/lib/python3.12/site-packages (from playwright->dataframe-image) (3.2.4)\n",
      "Requirement already satisfied: charset_normalizer<4,>=2 in /home/codespace/.local/lib/python3.12/site-packages (from requests->dataframe-image) (3.4.2)\n",
      "Requirement already satisfied: urllib3<3,>=1.21.1 in /home/codespace/.local/lib/python3.12/site-packages (from requests->dataframe-image) (2.5.0)\n",
      "Requirement already satisfied: certifi>=2017.4.17 in /home/codespace/.local/lib/python3.12/site-packages (from requests->dataframe-image) (2025.7.9)\n",
      "\n",
      "\u001b[1m[\u001b[0m\u001b[34;49mnotice\u001b[0m\u001b[1;39;49m]\u001b[0m\u001b[39;49m A new release of pip is available: \u001b[0m\u001b[31;49m25.1.1\u001b[0m\u001b[39;49m -> \u001b[0m\u001b[32;49m25.2\u001b[0m\n",
      "\u001b[1m[\u001b[0m\u001b[34;49mnotice\u001b[0m\u001b[1;39;49m]\u001b[0m\u001b[39;49m To update, run: \u001b[0m\u001b[32;49mpython3 -m pip install --upgrade pip\u001b[0m\n",
      "Requirement already satisfied: kaleido>=0.2.1 in /usr/local/python/3.12.1/lib/python3.12/site-packages (1.1.0)\n",
      "Requirement already satisfied: choreographer>=1.0.10 in /usr/local/python/3.12.1/lib/python3.12/site-packages (from kaleido>=0.2.1) (1.1.2)\n",
      "Requirement already satisfied: logistro>=1.0.8 in /usr/local/python/3.12.1/lib/python3.12/site-packages (from kaleido>=0.2.1) (2.0.0)\n",
      "Requirement already satisfied: orjson>=3.10.15 in /usr/local/python/3.12.1/lib/python3.12/site-packages (from kaleido>=0.2.1) (3.11.3)\n",
      "Requirement already satisfied: packaging in /home/codespace/.local/lib/python3.12/site-packages (from kaleido>=0.2.1) (25.0)\n",
      "Requirement already satisfied: pytest-timeout>=2.4.0 in /usr/local/python/3.12.1/lib/python3.12/site-packages (from kaleido>=0.2.1) (2.4.0)\n",
      "Requirement already satisfied: simplejson>=3.19.3 in /usr/local/python/3.12.1/lib/python3.12/site-packages (from choreographer>=1.0.10->kaleido>=0.2.1) (3.20.2)\n",
      "Requirement already satisfied: pytest>=7.0.0 in /usr/local/python/3.12.1/lib/python3.12/site-packages (from pytest-timeout>=2.4.0->kaleido>=0.2.1) (8.4.2)\n",
      "Requirement already satisfied: iniconfig>=1 in /usr/local/python/3.12.1/lib/python3.12/site-packages (from pytest>=7.0.0->pytest-timeout>=2.4.0->kaleido>=0.2.1) (2.3.0)\n",
      "Requirement already satisfied: pluggy<2,>=1.5 in /usr/local/python/3.12.1/lib/python3.12/site-packages (from pytest>=7.0.0->pytest-timeout>=2.4.0->kaleido>=0.2.1) (1.6.0)\n",
      "Requirement already satisfied: pygments>=2.7.2 in /home/codespace/.local/lib/python3.12/site-packages (from pytest>=7.0.0->pytest-timeout>=2.4.0->kaleido>=0.2.1) (2.19.2)\n",
      "\n",
      "\u001b[1m[\u001b[0m\u001b[34;49mnotice\u001b[0m\u001b[1;39;49m]\u001b[0m\u001b[39;49m A new release of pip is available: \u001b[0m\u001b[31;49m25.1.1\u001b[0m\u001b[39;49m -> \u001b[0m\u001b[32;49m25.2\u001b[0m\n",
      "\u001b[1m[\u001b[0m\u001b[34;49mnotice\u001b[0m\u001b[1;39;49m]\u001b[0m\u001b[39;49m To update, run: \u001b[0m\u001b[32;49mpython3 -m pip install --upgrade pip\u001b[0m\n",
      "Requirement already satisfied: dataframe-image in /usr/local/python/3.12.1/lib/python3.12/site-packages (0.2.7)\n",
      "Requirement already satisfied: kaleido in /usr/local/python/3.12.1/lib/python3.12/site-packages (1.1.0)\n",
      "Requirement already satisfied: plotly in /home/codespace/.local/lib/python3.12/site-packages (6.2.0)\n",
      "Requirement already satisfied: pandas>=0.24 in /home/codespace/.local/lib/python3.12/site-packages (from dataframe-image) (2.3.1)\n",
      "Requirement already satisfied: nbconvert>=5 in /home/codespace/.local/lib/python3.12/site-packages (from dataframe-image) (7.16.6)\n",
      "Requirement already satisfied: aiohttp>=3.10.2 in /usr/local/python/3.12.1/lib/python3.12/site-packages (from dataframe-image) (3.13.1)\n",
      "Requirement already satisfied: requests in /home/codespace/.local/lib/python3.12/site-packages (from dataframe-image) (2.32.4)\n",
      "Requirement already satisfied: pillow in /home/codespace/.local/lib/python3.12/site-packages (from dataframe-image) (11.3.0)\n",
      "Requirement already satisfied: packaging in /home/codespace/.local/lib/python3.12/site-packages (from dataframe-image) (25.0)\n",
      "Requirement already satisfied: mistune in /home/codespace/.local/lib/python3.12/site-packages (from dataframe-image) (3.1.3)\n",
      "Requirement already satisfied: lxml in /usr/local/python/3.12.1/lib/python3.12/site-packages (from dataframe-image) (6.0.2)\n",
      "Requirement already satisfied: beautifulsoup4 in /home/codespace/.local/lib/python3.12/site-packages (from dataframe-image) (4.13.4)\n",
      "Requirement already satisfied: cssutils in /usr/local/python/3.12.1/lib/python3.12/site-packages (from dataframe-image) (2.11.1)\n",
      "Requirement already satisfied: playwright in /usr/local/python/3.12.1/lib/python3.12/site-packages (from dataframe-image) (1.55.0)\n",
      "Requirement already satisfied: cssselect in /usr/local/python/3.12.1/lib/python3.12/site-packages (from dataframe-image) (1.3.0)\n",
      "Requirement already satisfied: choreographer>=1.0.10 in /usr/local/python/3.12.1/lib/python3.12/site-packages (from kaleido) (1.1.2)\n",
      "Requirement already satisfied: logistro>=1.0.8 in /usr/local/python/3.12.1/lib/python3.12/site-packages (from kaleido) (2.0.0)\n",
      "Requirement already satisfied: orjson>=3.10.15 in /usr/local/python/3.12.1/lib/python3.12/site-packages (from kaleido) (3.11.3)\n",
      "Requirement already satisfied: pytest-timeout>=2.4.0 in /usr/local/python/3.12.1/lib/python3.12/site-packages (from kaleido) (2.4.0)\n",
      "Requirement already satisfied: narwhals>=1.15.1 in /home/codespace/.local/lib/python3.12/site-packages (from plotly) (1.46.0)\n",
      "Requirement already satisfied: aiohappyeyeballs>=2.5.0 in /usr/local/python/3.12.1/lib/python3.12/site-packages (from aiohttp>=3.10.2->dataframe-image) (2.6.1)\n",
      "Requirement already satisfied: aiosignal>=1.4.0 in /usr/local/python/3.12.1/lib/python3.12/site-packages (from aiohttp>=3.10.2->dataframe-image) (1.4.0)\n",
      "Requirement already satisfied: attrs>=17.3.0 in /home/codespace/.local/lib/python3.12/site-packages (from aiohttp>=3.10.2->dataframe-image) (25.3.0)\n",
      "Requirement already satisfied: frozenlist>=1.1.1 in /usr/local/python/3.12.1/lib/python3.12/site-packages (from aiohttp>=3.10.2->dataframe-image) (1.8.0)\n",
      "Requirement already satisfied: multidict<7.0,>=4.5 in /usr/local/python/3.12.1/lib/python3.12/site-packages (from aiohttp>=3.10.2->dataframe-image) (6.7.0)\n",
      "Requirement already satisfied: propcache>=0.2.0 in /usr/local/python/3.12.1/lib/python3.12/site-packages (from aiohttp>=3.10.2->dataframe-image) (0.4.1)\n",
      "Requirement already satisfied: yarl<2.0,>=1.17.0 in /usr/local/python/3.12.1/lib/python3.12/site-packages (from aiohttp>=3.10.2->dataframe-image) (1.22.0)\n",
      "Requirement already satisfied: idna>=2.0 in /home/codespace/.local/lib/python3.12/site-packages (from yarl<2.0,>=1.17.0->aiohttp>=3.10.2->dataframe-image) (3.10)\n",
      "Requirement already satisfied: typing-extensions>=4.2 in /home/codespace/.local/lib/python3.12/site-packages (from aiosignal>=1.4.0->aiohttp>=3.10.2->dataframe-image) (4.14.1)\n",
      "Requirement already satisfied: simplejson>=3.19.3 in /usr/local/python/3.12.1/lib/python3.12/site-packages (from choreographer>=1.0.10->kaleido) (3.20.2)\n",
      "Requirement already satisfied: bleach!=5.0.0 in /home/codespace/.local/lib/python3.12/site-packages (from bleach[css]!=5.0.0->nbconvert>=5->dataframe-image) (6.2.0)\n",
      "Requirement already satisfied: defusedxml in /home/codespace/.local/lib/python3.12/site-packages (from nbconvert>=5->dataframe-image) (0.7.1)\n",
      "Requirement already satisfied: jinja2>=3.0 in /home/codespace/.local/lib/python3.12/site-packages (from nbconvert>=5->dataframe-image) (3.1.6)\n",
      "Requirement already satisfied: jupyter-core>=4.7 in /home/codespace/.local/lib/python3.12/site-packages (from nbconvert>=5->dataframe-image) (5.8.1)\n",
      "Requirement already satisfied: jupyterlab-pygments in /home/codespace/.local/lib/python3.12/site-packages (from nbconvert>=5->dataframe-image) (0.3.0)\n",
      "Requirement already satisfied: markupsafe>=2.0 in /home/codespace/.local/lib/python3.12/site-packages (from nbconvert>=5->dataframe-image) (3.0.2)\n",
      "Requirement already satisfied: nbclient>=0.5.0 in /home/codespace/.local/lib/python3.12/site-packages (from nbconvert>=5->dataframe-image) (0.10.2)\n",
      "Requirement already satisfied: nbformat>=5.7 in /home/codespace/.local/lib/python3.12/site-packages (from nbconvert>=5->dataframe-image) (5.10.4)\n",
      "Requirement already satisfied: pandocfilters>=1.4.1 in /home/codespace/.local/lib/python3.12/site-packages (from nbconvert>=5->dataframe-image) (1.5.1)\n",
      "Requirement already satisfied: pygments>=2.4.1 in /home/codespace/.local/lib/python3.12/site-packages (from nbconvert>=5->dataframe-image) (2.19.2)\n",
      "Requirement already satisfied: traitlets>=5.1 in /home/codespace/.local/lib/python3.12/site-packages (from nbconvert>=5->dataframe-image) (5.14.3)\n",
      "Requirement already satisfied: webencodings in /home/codespace/.local/lib/python3.12/site-packages (from bleach!=5.0.0->bleach[css]!=5.0.0->nbconvert>=5->dataframe-image) (0.5.1)\n",
      "Requirement already satisfied: tinycss2<1.5,>=1.1.0 in /home/codespace/.local/lib/python3.12/site-packages (from bleach[css]!=5.0.0->nbconvert>=5->dataframe-image) (1.4.0)\n",
      "Requirement already satisfied: platformdirs>=2.5 in /home/codespace/.local/lib/python3.12/site-packages (from jupyter-core>=4.7->nbconvert>=5->dataframe-image) (4.3.8)\n",
      "Requirement already satisfied: jupyter-client>=6.1.12 in /home/codespace/.local/lib/python3.12/site-packages (from nbclient>=0.5.0->nbconvert>=5->dataframe-image) (8.6.3)\n",
      "Requirement already satisfied: python-dateutil>=2.8.2 in /home/codespace/.local/lib/python3.12/site-packages (from jupyter-client>=6.1.12->nbclient>=0.5.0->nbconvert>=5->dataframe-image) (2.9.0.post0)\n",
      "Requirement already satisfied: pyzmq>=23.0 in /home/codespace/.local/lib/python3.12/site-packages (from jupyter-client>=6.1.12->nbclient>=0.5.0->nbconvert>=5->dataframe-image) (27.0.0)\n",
      "Requirement already satisfied: tornado>=6.2 in /home/codespace/.local/lib/python3.12/site-packages (from jupyter-client>=6.1.12->nbclient>=0.5.0->nbconvert>=5->dataframe-image) (6.5.1)\n",
      "Requirement already satisfied: fastjsonschema>=2.15 in /home/codespace/.local/lib/python3.12/site-packages (from nbformat>=5.7->nbconvert>=5->dataframe-image) (2.21.1)\n",
      "Requirement already satisfied: jsonschema>=2.6 in /home/codespace/.local/lib/python3.12/site-packages (from nbformat>=5.7->nbconvert>=5->dataframe-image) (4.24.0)\n",
      "Requirement already satisfied: jsonschema-specifications>=2023.03.6 in /home/codespace/.local/lib/python3.12/site-packages (from jsonschema>=2.6->nbformat>=5.7->nbconvert>=5->dataframe-image) (2025.4.1)\n",
      "Requirement already satisfied: referencing>=0.28.4 in /home/codespace/.local/lib/python3.12/site-packages (from jsonschema>=2.6->nbformat>=5.7->nbconvert>=5->dataframe-image) (0.36.2)\n",
      "Requirement already satisfied: rpds-py>=0.7.1 in /home/codespace/.local/lib/python3.12/site-packages (from jsonschema>=2.6->nbformat>=5.7->nbconvert>=5->dataframe-image) (0.26.0)\n",
      "Requirement already satisfied: numpy>=1.26.0 in /home/codespace/.local/lib/python3.12/site-packages (from pandas>=0.24->dataframe-image) (2.3.1)\n",
      "Requirement already satisfied: pytz>=2020.1 in /home/codespace/.local/lib/python3.12/site-packages (from pandas>=0.24->dataframe-image) (2025.2)\n",
      "Requirement already satisfied: tzdata>=2022.7 in /home/codespace/.local/lib/python3.12/site-packages (from pandas>=0.24->dataframe-image) (2025.2)\n",
      "Requirement already satisfied: pytest>=7.0.0 in /usr/local/python/3.12.1/lib/python3.12/site-packages (from pytest-timeout>=2.4.0->kaleido) (8.4.2)\n",
      "Requirement already satisfied: iniconfig>=1 in /usr/local/python/3.12.1/lib/python3.12/site-packages (from pytest>=7.0.0->pytest-timeout>=2.4.0->kaleido) (2.3.0)\n",
      "Requirement already satisfied: pluggy<2,>=1.5 in /usr/local/python/3.12.1/lib/python3.12/site-packages (from pytest>=7.0.0->pytest-timeout>=2.4.0->kaleido) (1.6.0)\n",
      "Requirement already satisfied: six>=1.5 in /home/codespace/.local/lib/python3.12/site-packages (from python-dateutil>=2.8.2->jupyter-client>=6.1.12->nbclient>=0.5.0->nbconvert>=5->dataframe-image) (1.17.0)\n",
      "Requirement already satisfied: soupsieve>1.2 in /home/codespace/.local/lib/python3.12/site-packages (from beautifulsoup4->dataframe-image) (2.7)\n",
      "Requirement already satisfied: more-itertools in /usr/local/python/3.12.1/lib/python3.12/site-packages (from cssutils->dataframe-image) (10.8.0)\n",
      "Requirement already satisfied: pyee<14,>=13 in /usr/local/python/3.12.1/lib/python3.12/site-packages (from playwright->dataframe-image) (13.0.0)\n",
      "Requirement already satisfied: greenlet<4.0.0,>=3.1.1 in /usr/local/python/3.12.1/lib/python3.12/site-packages (from playwright->dataframe-image) (3.2.4)\n",
      "Requirement already satisfied: charset_normalizer<4,>=2 in /home/codespace/.local/lib/python3.12/site-packages (from requests->dataframe-image) (3.4.2)\n",
      "Requirement already satisfied: urllib3<3,>=1.21.1 in /home/codespace/.local/lib/python3.12/site-packages (from requests->dataframe-image) (2.5.0)\n",
      "Requirement already satisfied: certifi>=2017.4.17 in /home/codespace/.local/lib/python3.12/site-packages (from requests->dataframe-image) (2025.7.9)\n"
     ]
    },
    {
     "name": "stdout",
     "output_type": "stream",
     "text": [
      "\n",
      "\u001b[1m[\u001b[0m\u001b[34;49mnotice\u001b[0m\u001b[1;39;49m]\u001b[0m\u001b[39;49m A new release of pip is available: \u001b[0m\u001b[31;49m25.1.1\u001b[0m\u001b[39;49m -> \u001b[0m\u001b[32;49m25.2\u001b[0m\n",
      "\u001b[1m[\u001b[0m\u001b[34;49mnotice\u001b[0m\u001b[1;39;49m]\u001b[0m\u001b[39;49m To update, run: \u001b[0m\u001b[32;49mpython3 -m pip install --upgrade pip\u001b[0m\n"
     ]
    }
   ],
   "source": [
    "!pip install dataframe-image\n",
    "!pip install \"kaleido>=0.2.1\"\n",
    "!pip install dataframe-image kaleido plotly"
   ]
  },
  {
   "cell_type": "markdown",
   "id": "01fff824",
   "metadata": {},
   "source": [
    "### Thống kê mô tả"
   ]
  },
  {
   "cell_type": "code",
   "execution_count": 7,
   "id": "d4dcd0cd",
   "metadata": {},
   "outputs": [
    {
     "data": {
      "text/html": [
       "<style type=\"text/css\">\n",
       "#T_b9edb_row0_col0, #T_b9edb_row0_col4, #T_b9edb_row1_col0, #T_b9edb_row2_col0, #T_b9edb_row3_col0, #T_b9edb_row4_col0, #T_b9edb_row5_col0, #T_b9edb_row6_col0, #T_b9edb_row6_col1, #T_b9edb_row6_col2, #T_b9edb_row6_col3, #T_b9edb_row6_col4, #T_b9edb_row6_col5, #T_b9edb_row6_col6, #T_b9edb_row6_col7, #T_b9edb_row6_col8, #T_b9edb_row7_col0, #T_b9edb_row8_col0, #T_b9edb_row8_col1, #T_b9edb_row8_col2, #T_b9edb_row8_col3, #T_b9edb_row8_col4, #T_b9edb_row8_col5, #T_b9edb_row8_col6, #T_b9edb_row8_col7, #T_b9edb_row8_col8 {\n",
       "  background-color: #fff5eb;\n",
       "  color: #000000;\n",
       "}\n",
       "#T_b9edb_row0_col1, #T_b9edb_row0_col2, #T_b9edb_row0_col6 {\n",
       "  background-color: #fff2e6;\n",
       "  color: #000000;\n",
       "}\n",
       "#T_b9edb_row0_col3, #T_b9edb_row0_col7 {\n",
       "  background-color: #fff1e3;\n",
       "  color: #000000;\n",
       "}\n",
       "#T_b9edb_row0_col5 {\n",
       "  background-color: #fff4e9;\n",
       "  color: #000000;\n",
       "}\n",
       "#T_b9edb_row0_col8 {\n",
       "  background-color: #fff3e7;\n",
       "  color: #000000;\n",
       "}\n",
       "#T_b9edb_row1_col1 {\n",
       "  background-color: #a93703;\n",
       "  color: #f1f1f1;\n",
       "}\n",
       "#T_b9edb_row1_col2, #T_b9edb_row1_col6 {\n",
       "  background-color: #932f03;\n",
       "  color: #f1f1f1;\n",
       "}\n",
       "#T_b9edb_row1_col3 {\n",
       "  background-color: #fdb576;\n",
       "  color: #000000;\n",
       "}\n",
       "#T_b9edb_row1_col4, #T_b9edb_row1_col7, #T_b9edb_row4_col1, #T_b9edb_row4_col2, #T_b9edb_row4_col3, #T_b9edb_row4_col5, #T_b9edb_row4_col6, #T_b9edb_row4_col8 {\n",
       "  background-color: #7f2704;\n",
       "  color: #f1f1f1;\n",
       "}\n",
       "#T_b9edb_row1_col5 {\n",
       "  background-color: #bb3d02;\n",
       "  color: #f1f1f1;\n",
       "}\n",
       "#T_b9edb_row1_col8, #T_b9edb_row3_col2, #T_b9edb_row3_col6, #T_b9edb_row7_col2, #T_b9edb_row7_col6 {\n",
       "  background-color: #fdd3a9;\n",
       "  color: #000000;\n",
       "}\n",
       "#T_b9edb_row2_col1 {\n",
       "  background-color: #fc8937;\n",
       "  color: #f1f1f1;\n",
       "}\n",
       "#T_b9edb_row2_col2, #T_b9edb_row2_col6 {\n",
       "  background-color: #f67723;\n",
       "  color: #f1f1f1;\n",
       "}\n",
       "#T_b9edb_row2_col3 {\n",
       "  background-color: #fee4ca;\n",
       "  color: #000000;\n",
       "}\n",
       "#T_b9edb_row2_col4 {\n",
       "  background-color: #f9802d;\n",
       "  color: #f1f1f1;\n",
       "}\n",
       "#T_b9edb_row2_col5 {\n",
       "  background-color: #fb8634;\n",
       "  color: #f1f1f1;\n",
       "}\n",
       "#T_b9edb_row2_col7 {\n",
       "  background-color: #f67925;\n",
       "  color: #f1f1f1;\n",
       "}\n",
       "#T_b9edb_row2_col8 {\n",
       "  background-color: #fee3c8;\n",
       "  color: #000000;\n",
       "}\n",
       "#T_b9edb_row3_col1, #T_b9edb_row3_col5 {\n",
       "  background-color: #fdd8b2;\n",
       "  color: #000000;\n",
       "}\n",
       "#T_b9edb_row3_col3 {\n",
       "  background-color: #fee9d4;\n",
       "  color: #000000;\n",
       "}\n",
       "#T_b9edb_row3_col4 {\n",
       "  background-color: #fee0c3;\n",
       "  color: #000000;\n",
       "}\n",
       "#T_b9edb_row3_col7, #T_b9edb_row5_col5 {\n",
       "  background-color: #fdd5ab;\n",
       "  color: #000000;\n",
       "}\n",
       "#T_b9edb_row3_col8 {\n",
       "  background-color: #fee7d1;\n",
       "  color: #000000;\n",
       "}\n",
       "#T_b9edb_row4_col4 {\n",
       "  background-color: #fdbe84;\n",
       "  color: #000000;\n",
       "}\n",
       "#T_b9edb_row4_col7 {\n",
       "  background-color: #9b3203;\n",
       "  color: #f1f1f1;\n",
       "}\n",
       "#T_b9edb_row5_col1 {\n",
       "  background-color: #fdd4aa;\n",
       "  color: #000000;\n",
       "}\n",
       "#T_b9edb_row5_col2, #T_b9edb_row5_col6 {\n",
       "  background-color: #fdce9e;\n",
       "  color: #000000;\n",
       "}\n",
       "#T_b9edb_row5_col3 {\n",
       "  background-color: #feecda;\n",
       "  color: #000000;\n",
       "}\n",
       "#T_b9edb_row5_col4 {\n",
       "  background-color: #fda45d;\n",
       "  color: #000000;\n",
       "}\n",
       "#T_b9edb_row5_col7 {\n",
       "  background-color: #fdcfa0;\n",
       "  color: #000000;\n",
       "}\n",
       "#T_b9edb_row5_col8 {\n",
       "  background-color: #feecd9;\n",
       "  color: #000000;\n",
       "}\n",
       "#T_b9edb_row7_col1 {\n",
       "  background-color: #fdd3a7;\n",
       "  color: #000000;\n",
       "}\n",
       "#T_b9edb_row7_col3 {\n",
       "  background-color: #fee5cb;\n",
       "  color: #000000;\n",
       "}\n",
       "#T_b9edb_row7_col4 {\n",
       "  background-color: #fd9344;\n",
       "  color: #000000;\n",
       "}\n",
       "#T_b9edb_row7_col5 {\n",
       "  background-color: #fdd9b5;\n",
       "  color: #000000;\n",
       "}\n",
       "#T_b9edb_row7_col7 {\n",
       "  background-color: #fdc590;\n",
       "  color: #000000;\n",
       "}\n",
       "#T_b9edb_row7_col8 {\n",
       "  background-color: #feead5;\n",
       "  color: #000000;\n",
       "}\n",
       "</style>\n",
       "<table id=\"T_b9edb\">\n",
       "  <thead>\n",
       "    <tr>\n",
       "      <th class=\"blank level0\" >&nbsp;</th>\n",
       "      <th id=\"T_b9edb_level0_col0\" class=\"col_heading level0 col0\" >count</th>\n",
       "      <th id=\"T_b9edb_level0_col1\" class=\"col_heading level0 col1\" >mean</th>\n",
       "      <th id=\"T_b9edb_level0_col2\" class=\"col_heading level0 col2\" >median</th>\n",
       "      <th id=\"T_b9edb_level0_col3\" class=\"col_heading level0 col3\" >std</th>\n",
       "      <th id=\"T_b9edb_level0_col4\" class=\"col_heading level0 col4\" >min</th>\n",
       "      <th id=\"T_b9edb_level0_col5\" class=\"col_heading level0 col5\" >25%</th>\n",
       "      <th id=\"T_b9edb_level0_col6\" class=\"col_heading level0 col6\" >50%</th>\n",
       "      <th id=\"T_b9edb_level0_col7\" class=\"col_heading level0 col7\" >75%</th>\n",
       "      <th id=\"T_b9edb_level0_col8\" class=\"col_heading level0 col8\" >max</th>\n",
       "    </tr>\n",
       "  </thead>\n",
       "  <tbody>\n",
       "    <tr>\n",
       "      <th id=\"T_b9edb_level0_row0\" class=\"row_heading level0 row0\" >Pregnancies</th>\n",
       "      <td id=\"T_b9edb_row0_col0\" class=\"data row0 col0\" >768.000000</td>\n",
       "      <td id=\"T_b9edb_row0_col1\" class=\"data row0 col1\" >3.845052</td>\n",
       "      <td id=\"T_b9edb_row0_col2\" class=\"data row0 col2\" >3.000000</td>\n",
       "      <td id=\"T_b9edb_row0_col3\" class=\"data row0 col3\" >3.369578</td>\n",
       "      <td id=\"T_b9edb_row0_col4\" class=\"data row0 col4\" >0.000000</td>\n",
       "      <td id=\"T_b9edb_row0_col5\" class=\"data row0 col5\" >1.000000</td>\n",
       "      <td id=\"T_b9edb_row0_col6\" class=\"data row0 col6\" >3.000000</td>\n",
       "      <td id=\"T_b9edb_row0_col7\" class=\"data row0 col7\" >6.000000</td>\n",
       "      <td id=\"T_b9edb_row0_col8\" class=\"data row0 col8\" >17.000000</td>\n",
       "    </tr>\n",
       "    <tr>\n",
       "      <th id=\"T_b9edb_level0_row1\" class=\"row_heading level0 row1\" >Glucose</th>\n",
       "      <td id=\"T_b9edb_row1_col0\" class=\"data row1 col0\" >768.000000</td>\n",
       "      <td id=\"T_b9edb_row1_col1\" class=\"data row1 col1\" >121.656250</td>\n",
       "      <td id=\"T_b9edb_row1_col2\" class=\"data row1 col2\" >117.000000</td>\n",
       "      <td id=\"T_b9edb_row1_col3\" class=\"data row1 col3\" >30.438286</td>\n",
       "      <td id=\"T_b9edb_row1_col4\" class=\"data row1 col4\" >44.000000</td>\n",
       "      <td id=\"T_b9edb_row1_col5\" class=\"data row1 col5\" >99.750000</td>\n",
       "      <td id=\"T_b9edb_row1_col6\" class=\"data row1 col6\" >117.000000</td>\n",
       "      <td id=\"T_b9edb_row1_col7\" class=\"data row1 col7\" >140.250000</td>\n",
       "      <td id=\"T_b9edb_row1_col8\" class=\"data row1 col8\" >199.000000</td>\n",
       "    </tr>\n",
       "    <tr>\n",
       "      <th id=\"T_b9edb_level0_row2\" class=\"row_heading level0 row2\" >BloodPressure</th>\n",
       "      <td id=\"T_b9edb_row2_col0\" class=\"data row2 col0\" >768.000000</td>\n",
       "      <td id=\"T_b9edb_row2_col1\" class=\"data row2 col1\" >72.386719</td>\n",
       "      <td id=\"T_b9edb_row2_col2\" class=\"data row2 col2\" >72.000000</td>\n",
       "      <td id=\"T_b9edb_row2_col3\" class=\"data row2 col3\" >12.096642</td>\n",
       "      <td id=\"T_b9edb_row2_col4\" class=\"data row2 col4\" >24.000000</td>\n",
       "      <td id=\"T_b9edb_row2_col5\" class=\"data row2 col5\" >64.000000</td>\n",
       "      <td id=\"T_b9edb_row2_col6\" class=\"data row2 col6\" >72.000000</td>\n",
       "      <td id=\"T_b9edb_row2_col7\" class=\"data row2 col7\" >80.000000</td>\n",
       "      <td id=\"T_b9edb_row2_col8\" class=\"data row2 col8\" >122.000000</td>\n",
       "    </tr>\n",
       "    <tr>\n",
       "      <th id=\"T_b9edb_level0_row3\" class=\"row_heading level0 row3\" >SkinThickness</th>\n",
       "      <td id=\"T_b9edb_row3_col0\" class=\"data row3 col0\" >768.000000</td>\n",
       "      <td id=\"T_b9edb_row3_col1\" class=\"data row3 col1\" >29.108073</td>\n",
       "      <td id=\"T_b9edb_row3_col2\" class=\"data row3 col2\" >29.000000</td>\n",
       "      <td id=\"T_b9edb_row3_col3\" class=\"data row3 col3\" >8.791221</td>\n",
       "      <td id=\"T_b9edb_row3_col4\" class=\"data row3 col4\" >7.000000</td>\n",
       "      <td id=\"T_b9edb_row3_col5\" class=\"data row3 col5\" >25.000000</td>\n",
       "      <td id=\"T_b9edb_row3_col6\" class=\"data row3 col6\" >29.000000</td>\n",
       "      <td id=\"T_b9edb_row3_col7\" class=\"data row3 col7\" >32.000000</td>\n",
       "      <td id=\"T_b9edb_row3_col8\" class=\"data row3 col8\" >99.000000</td>\n",
       "    </tr>\n",
       "    <tr>\n",
       "      <th id=\"T_b9edb_level0_row4\" class=\"row_heading level0 row4\" >Insulin</th>\n",
       "      <td id=\"T_b9edb_row4_col0\" class=\"data row4 col0\" >768.000000</td>\n",
       "      <td id=\"T_b9edb_row4_col1\" class=\"data row4 col1\" >140.671875</td>\n",
       "      <td id=\"T_b9edb_row4_col2\" class=\"data row4 col2\" >125.000000</td>\n",
       "      <td id=\"T_b9edb_row4_col3\" class=\"data row4 col3\" >86.383060</td>\n",
       "      <td id=\"T_b9edb_row4_col4\" class=\"data row4 col4\" >14.000000</td>\n",
       "      <td id=\"T_b9edb_row4_col5\" class=\"data row4 col5\" >121.500000</td>\n",
       "      <td id=\"T_b9edb_row4_col6\" class=\"data row4 col6\" >125.000000</td>\n",
       "      <td id=\"T_b9edb_row4_col7\" class=\"data row4 col7\" >127.250000</td>\n",
       "      <td id=\"T_b9edb_row4_col8\" class=\"data row4 col8\" >846.000000</td>\n",
       "    </tr>\n",
       "    <tr>\n",
       "      <th id=\"T_b9edb_level0_row5\" class=\"row_heading level0 row5\" >BMI</th>\n",
       "      <td id=\"T_b9edb_row5_col0\" class=\"data row5 col0\" >768.000000</td>\n",
       "      <td id=\"T_b9edb_row5_col1\" class=\"data row5 col1\" >32.455208</td>\n",
       "      <td id=\"T_b9edb_row5_col2\" class=\"data row5 col2\" >32.300000</td>\n",
       "      <td id=\"T_b9edb_row5_col3\" class=\"data row5 col3\" >6.875177</td>\n",
       "      <td id=\"T_b9edb_row5_col4\" class=\"data row5 col4\" >18.200000</td>\n",
       "      <td id=\"T_b9edb_row5_col5\" class=\"data row5 col5\" >27.500000</td>\n",
       "      <td id=\"T_b9edb_row5_col6\" class=\"data row5 col6\" >32.300000</td>\n",
       "      <td id=\"T_b9edb_row5_col7\" class=\"data row5 col7\" >36.600000</td>\n",
       "      <td id=\"T_b9edb_row5_col8\" class=\"data row5 col8\" >67.100000</td>\n",
       "    </tr>\n",
       "    <tr>\n",
       "      <th id=\"T_b9edb_level0_row6\" class=\"row_heading level0 row6\" >DiabetesPedigreeFunction</th>\n",
       "      <td id=\"T_b9edb_row6_col0\" class=\"data row6 col0\" >768.000000</td>\n",
       "      <td id=\"T_b9edb_row6_col1\" class=\"data row6 col1\" >0.471876</td>\n",
       "      <td id=\"T_b9edb_row6_col2\" class=\"data row6 col2\" >0.372500</td>\n",
       "      <td id=\"T_b9edb_row6_col3\" class=\"data row6 col3\" >0.331329</td>\n",
       "      <td id=\"T_b9edb_row6_col4\" class=\"data row6 col4\" >0.078000</td>\n",
       "      <td id=\"T_b9edb_row6_col5\" class=\"data row6 col5\" >0.243750</td>\n",
       "      <td id=\"T_b9edb_row6_col6\" class=\"data row6 col6\" >0.372500</td>\n",
       "      <td id=\"T_b9edb_row6_col7\" class=\"data row6 col7\" >0.626250</td>\n",
       "      <td id=\"T_b9edb_row6_col8\" class=\"data row6 col8\" >2.420000</td>\n",
       "    </tr>\n",
       "    <tr>\n",
       "      <th id=\"T_b9edb_level0_row7\" class=\"row_heading level0 row7\" >Age</th>\n",
       "      <td id=\"T_b9edb_row7_col0\" class=\"data row7 col0\" >768.000000</td>\n",
       "      <td id=\"T_b9edb_row7_col1\" class=\"data row7 col1\" >33.240885</td>\n",
       "      <td id=\"T_b9edb_row7_col2\" class=\"data row7 col2\" >29.000000</td>\n",
       "      <td id=\"T_b9edb_row7_col3\" class=\"data row7 col3\" >11.760232</td>\n",
       "      <td id=\"T_b9edb_row7_col4\" class=\"data row7 col4\" >21.000000</td>\n",
       "      <td id=\"T_b9edb_row7_col5\" class=\"data row7 col5\" >24.000000</td>\n",
       "      <td id=\"T_b9edb_row7_col6\" class=\"data row7 col6\" >29.000000</td>\n",
       "      <td id=\"T_b9edb_row7_col7\" class=\"data row7 col7\" >41.000000</td>\n",
       "      <td id=\"T_b9edb_row7_col8\" class=\"data row7 col8\" >81.000000</td>\n",
       "    </tr>\n",
       "    <tr>\n",
       "      <th id=\"T_b9edb_level0_row8\" class=\"row_heading level0 row8\" >Outcome</th>\n",
       "      <td id=\"T_b9edb_row8_col0\" class=\"data row8 col0\" >768.000000</td>\n",
       "      <td id=\"T_b9edb_row8_col1\" class=\"data row8 col1\" >0.348958</td>\n",
       "      <td id=\"T_b9edb_row8_col2\" class=\"data row8 col2\" >0.000000</td>\n",
       "      <td id=\"T_b9edb_row8_col3\" class=\"data row8 col3\" >0.476951</td>\n",
       "      <td id=\"T_b9edb_row8_col4\" class=\"data row8 col4\" >0.000000</td>\n",
       "      <td id=\"T_b9edb_row8_col5\" class=\"data row8 col5\" >0.000000</td>\n",
       "      <td id=\"T_b9edb_row8_col6\" class=\"data row8 col6\" >0.000000</td>\n",
       "      <td id=\"T_b9edb_row8_col7\" class=\"data row8 col7\" >1.000000</td>\n",
       "      <td id=\"T_b9edb_row8_col8\" class=\"data row8 col8\" >1.000000</td>\n",
       "    </tr>\n",
       "  </tbody>\n",
       "</table>\n"
      ],
      "text/plain": [
       "<pandas.io.formats.style.Styler at 0x792c8d724980>"
      ]
     },
     "metadata": {},
     "output_type": "display_data"
    }
   ],
   "source": [
    "import dataframe_image as dfi\n",
    "from IPython.display import FileLink\n",
    "\n",
    "# Tính thống kê mô tả\n",
    "desc = data.describe().T\n",
    "\n",
    "# Thêm cột median\n",
    "desc[\"median\"] = data.median()\n",
    "\n",
    "# Sắp xếp để median nằm sau mean\n",
    "cols = list(desc.columns)\n",
    "cols.insert(cols.index(\"mean\") + 1, cols.pop(cols.index(\"median\")))\n",
    "desc = desc[cols]\n",
    "\n",
    "# Tạo bảng có màu\n",
    "styled = desc.style.background_gradient(cmap=\"Oranges\")\n",
    "\n",
    "# 👉 Hiển thị bảng trực tiếp trong notebook\n",
    "display(styled)\n",
    "\n"
   ]
  },
  {
   "cell_type": "markdown",
   "id": "f8accbd2",
   "metadata": {},
   "source": [
    "# XỬ LÝ VÀ TRỰC QUAN HÓA DỮ LIỆU -Bài tập thực hành 2"
   ]
  },
  {
   "cell_type": "markdown",
   "id": "b2d7776f",
   "metadata": {},
   "source": [
    "Thực hiện trực quan hóa dữ liệu trên tập dữ liệu về bệnh tiểu đường. Dữ liệu lấy tại https://www.kaggle.com/code/vincentlugat/pima-indians-diabetes-eda-prediction-0-906 "
   ]
  },
  {
   "cell_type": "markdown",
   "id": "a2cbe6b0",
   "metadata": {},
   "source": [
    "### 1. Trực quan biến Outcome"
   ]
  },
  {
   "cell_type": "code",
   "execution_count": 21,
   "id": "244d51e1",
   "metadata": {},
   "outputs": [
    {
     "data": {
      "application/vnd.plotly.v1+json": {
       "config": {
        "plotlyServerURL": "https://plot.ly"
       },
       "data": [
        {
         "marker": {
          "color": [
           "lightskyblue",
           "lightcoral"
          ],
          "line": {
           "color": "#000000",
           "width": 1.5
          }
         },
         "name": "Count",
         "opacity": 0.85,
         "orientation": "h",
         "text": [
          "500",
          "268"
         ],
         "textfont": {
          "size": 14
         },
         "textposition": "auto",
         "type": "bar",
         "x": [
          500,
          268
         ],
         "xaxis": "x",
         "y": [
          "Healthy",
          "Diabetic"
         ],
         "yaxis": "y"
        },
        {
         "domain": {
          "x": [
           0.55,
           1
          ],
          "y": [
           0,
           1
          ]
         },
         "labels": [
          "Healthy",
          "Diabetic"
         ],
         "marker": {
          "colors": [
           "lightskyblue",
           "lightcoral"
          ],
          "line": {
           "color": "#000000",
           "width": 1.5
          }
         },
         "name": "Percentage",
         "opacity": 0.9,
         "textfont": {
          "size": 14
         },
         "textinfo": "label+percent",
         "type": "pie",
         "values": {
          "bdata": "9AEMAQ==",
          "dtype": "i2"
         }
        }
       ],
       "layout": {
        "annotations": [
         {
          "font": {
           "size": 16
          },
          "showarrow": false,
          "text": "Count of Outcome variable",
          "x": 0.225,
          "xanchor": "center",
          "xref": "paper",
          "y": 1,
          "yanchor": "bottom",
          "yref": "paper"
         },
         {
          "font": {
           "size": 16
          },
          "showarrow": false,
          "text": "Distribution of Outcome variable",
          "x": 0.775,
          "xanchor": "center",
          "xref": "paper",
          "y": 1,
          "yanchor": "bottom",
          "yref": "paper"
         }
        ],
        "height": 400,
        "showlegend": false,
        "template": {
         "data": {
          "bar": [
           {
            "error_x": {
             "color": "#2a3f5f"
            },
            "error_y": {
             "color": "#2a3f5f"
            },
            "marker": {
             "line": {
              "color": "#E5ECF6",
              "width": 0.5
             },
             "pattern": {
              "fillmode": "overlay",
              "size": 10,
              "solidity": 0.2
             }
            },
            "type": "bar"
           }
          ],
          "barpolar": [
           {
            "marker": {
             "line": {
              "color": "#E5ECF6",
              "width": 0.5
             },
             "pattern": {
              "fillmode": "overlay",
              "size": 10,
              "solidity": 0.2
             }
            },
            "type": "barpolar"
           }
          ],
          "carpet": [
           {
            "aaxis": {
             "endlinecolor": "#2a3f5f",
             "gridcolor": "white",
             "linecolor": "white",
             "minorgridcolor": "white",
             "startlinecolor": "#2a3f5f"
            },
            "baxis": {
             "endlinecolor": "#2a3f5f",
             "gridcolor": "white",
             "linecolor": "white",
             "minorgridcolor": "white",
             "startlinecolor": "#2a3f5f"
            },
            "type": "carpet"
           }
          ],
          "choropleth": [
           {
            "colorbar": {
             "outlinewidth": 0,
             "ticks": ""
            },
            "type": "choropleth"
           }
          ],
          "contour": [
           {
            "colorbar": {
             "outlinewidth": 0,
             "ticks": ""
            },
            "colorscale": [
             [
              0,
              "#0d0887"
             ],
             [
              0.1111111111111111,
              "#46039f"
             ],
             [
              0.2222222222222222,
              "#7201a8"
             ],
             [
              0.3333333333333333,
              "#9c179e"
             ],
             [
              0.4444444444444444,
              "#bd3786"
             ],
             [
              0.5555555555555556,
              "#d8576b"
             ],
             [
              0.6666666666666666,
              "#ed7953"
             ],
             [
              0.7777777777777778,
              "#fb9f3a"
             ],
             [
              0.8888888888888888,
              "#fdca26"
             ],
             [
              1,
              "#f0f921"
             ]
            ],
            "type": "contour"
           }
          ],
          "contourcarpet": [
           {
            "colorbar": {
             "outlinewidth": 0,
             "ticks": ""
            },
            "type": "contourcarpet"
           }
          ],
          "heatmap": [
           {
            "colorbar": {
             "outlinewidth": 0,
             "ticks": ""
            },
            "colorscale": [
             [
              0,
              "#0d0887"
             ],
             [
              0.1111111111111111,
              "#46039f"
             ],
             [
              0.2222222222222222,
              "#7201a8"
             ],
             [
              0.3333333333333333,
              "#9c179e"
             ],
             [
              0.4444444444444444,
              "#bd3786"
             ],
             [
              0.5555555555555556,
              "#d8576b"
             ],
             [
              0.6666666666666666,
              "#ed7953"
             ],
             [
              0.7777777777777778,
              "#fb9f3a"
             ],
             [
              0.8888888888888888,
              "#fdca26"
             ],
             [
              1,
              "#f0f921"
             ]
            ],
            "type": "heatmap"
           }
          ],
          "histogram": [
           {
            "marker": {
             "pattern": {
              "fillmode": "overlay",
              "size": 10,
              "solidity": 0.2
             }
            },
            "type": "histogram"
           }
          ],
          "histogram2d": [
           {
            "colorbar": {
             "outlinewidth": 0,
             "ticks": ""
            },
            "colorscale": [
             [
              0,
              "#0d0887"
             ],
             [
              0.1111111111111111,
              "#46039f"
             ],
             [
              0.2222222222222222,
              "#7201a8"
             ],
             [
              0.3333333333333333,
              "#9c179e"
             ],
             [
              0.4444444444444444,
              "#bd3786"
             ],
             [
              0.5555555555555556,
              "#d8576b"
             ],
             [
              0.6666666666666666,
              "#ed7953"
             ],
             [
              0.7777777777777778,
              "#fb9f3a"
             ],
             [
              0.8888888888888888,
              "#fdca26"
             ],
             [
              1,
              "#f0f921"
             ]
            ],
            "type": "histogram2d"
           }
          ],
          "histogram2dcontour": [
           {
            "colorbar": {
             "outlinewidth": 0,
             "ticks": ""
            },
            "colorscale": [
             [
              0,
              "#0d0887"
             ],
             [
              0.1111111111111111,
              "#46039f"
             ],
             [
              0.2222222222222222,
              "#7201a8"
             ],
             [
              0.3333333333333333,
              "#9c179e"
             ],
             [
              0.4444444444444444,
              "#bd3786"
             ],
             [
              0.5555555555555556,
              "#d8576b"
             ],
             [
              0.6666666666666666,
              "#ed7953"
             ],
             [
              0.7777777777777778,
              "#fb9f3a"
             ],
             [
              0.8888888888888888,
              "#fdca26"
             ],
             [
              1,
              "#f0f921"
             ]
            ],
            "type": "histogram2dcontour"
           }
          ],
          "mesh3d": [
           {
            "colorbar": {
             "outlinewidth": 0,
             "ticks": ""
            },
            "type": "mesh3d"
           }
          ],
          "parcoords": [
           {
            "line": {
             "colorbar": {
              "outlinewidth": 0,
              "ticks": ""
             }
            },
            "type": "parcoords"
           }
          ],
          "pie": [
           {
            "automargin": true,
            "type": "pie"
           }
          ],
          "scatter": [
           {
            "fillpattern": {
             "fillmode": "overlay",
             "size": 10,
             "solidity": 0.2
            },
            "type": "scatter"
           }
          ],
          "scatter3d": [
           {
            "line": {
             "colorbar": {
              "outlinewidth": 0,
              "ticks": ""
             }
            },
            "marker": {
             "colorbar": {
              "outlinewidth": 0,
              "ticks": ""
             }
            },
            "type": "scatter3d"
           }
          ],
          "scattercarpet": [
           {
            "marker": {
             "colorbar": {
              "outlinewidth": 0,
              "ticks": ""
             }
            },
            "type": "scattercarpet"
           }
          ],
          "scattergeo": [
           {
            "marker": {
             "colorbar": {
              "outlinewidth": 0,
              "ticks": ""
             }
            },
            "type": "scattergeo"
           }
          ],
          "scattergl": [
           {
            "marker": {
             "colorbar": {
              "outlinewidth": 0,
              "ticks": ""
             }
            },
            "type": "scattergl"
           }
          ],
          "scattermap": [
           {
            "marker": {
             "colorbar": {
              "outlinewidth": 0,
              "ticks": ""
             }
            },
            "type": "scattermap"
           }
          ],
          "scattermapbox": [
           {
            "marker": {
             "colorbar": {
              "outlinewidth": 0,
              "ticks": ""
             }
            },
            "type": "scattermapbox"
           }
          ],
          "scatterpolar": [
           {
            "marker": {
             "colorbar": {
              "outlinewidth": 0,
              "ticks": ""
             }
            },
            "type": "scatterpolar"
           }
          ],
          "scatterpolargl": [
           {
            "marker": {
             "colorbar": {
              "outlinewidth": 0,
              "ticks": ""
             }
            },
            "type": "scatterpolargl"
           }
          ],
          "scatterternary": [
           {
            "marker": {
             "colorbar": {
              "outlinewidth": 0,
              "ticks": ""
             }
            },
            "type": "scatterternary"
           }
          ],
          "surface": [
           {
            "colorbar": {
             "outlinewidth": 0,
             "ticks": ""
            },
            "colorscale": [
             [
              0,
              "#0d0887"
             ],
             [
              0.1111111111111111,
              "#46039f"
             ],
             [
              0.2222222222222222,
              "#7201a8"
             ],
             [
              0.3333333333333333,
              "#9c179e"
             ],
             [
              0.4444444444444444,
              "#bd3786"
             ],
             [
              0.5555555555555556,
              "#d8576b"
             ],
             [
              0.6666666666666666,
              "#ed7953"
             ],
             [
              0.7777777777777778,
              "#fb9f3a"
             ],
             [
              0.8888888888888888,
              "#fdca26"
             ],
             [
              1,
              "#f0f921"
             ]
            ],
            "type": "surface"
           }
          ],
          "table": [
           {
            "cells": {
             "fill": {
              "color": "#EBF0F8"
             },
             "line": {
              "color": "white"
             }
            },
            "header": {
             "fill": {
              "color": "#C8D4E3"
             },
             "line": {
              "color": "white"
             }
            },
            "type": "table"
           }
          ]
         },
         "layout": {
          "annotationdefaults": {
           "arrowcolor": "#2a3f5f",
           "arrowhead": 0,
           "arrowwidth": 1
          },
          "autotypenumbers": "strict",
          "coloraxis": {
           "colorbar": {
            "outlinewidth": 0,
            "ticks": ""
           }
          },
          "colorscale": {
           "diverging": [
            [
             0,
             "#8e0152"
            ],
            [
             0.1,
             "#c51b7d"
            ],
            [
             0.2,
             "#de77ae"
            ],
            [
             0.3,
             "#f1b6da"
            ],
            [
             0.4,
             "#fde0ef"
            ],
            [
             0.5,
             "#f7f7f7"
            ],
            [
             0.6,
             "#e6f5d0"
            ],
            [
             0.7,
             "#b8e186"
            ],
            [
             0.8,
             "#7fbc41"
            ],
            [
             0.9,
             "#4d9221"
            ],
            [
             1,
             "#276419"
            ]
           ],
           "sequential": [
            [
             0,
             "#0d0887"
            ],
            [
             0.1111111111111111,
             "#46039f"
            ],
            [
             0.2222222222222222,
             "#7201a8"
            ],
            [
             0.3333333333333333,
             "#9c179e"
            ],
            [
             0.4444444444444444,
             "#bd3786"
            ],
            [
             0.5555555555555556,
             "#d8576b"
            ],
            [
             0.6666666666666666,
             "#ed7953"
            ],
            [
             0.7777777777777778,
             "#fb9f3a"
            ],
            [
             0.8888888888888888,
             "#fdca26"
            ],
            [
             1,
             "#f0f921"
            ]
           ],
           "sequentialminus": [
            [
             0,
             "#0d0887"
            ],
            [
             0.1111111111111111,
             "#46039f"
            ],
            [
             0.2222222222222222,
             "#7201a8"
            ],
            [
             0.3333333333333333,
             "#9c179e"
            ],
            [
             0.4444444444444444,
             "#bd3786"
            ],
            [
             0.5555555555555556,
             "#d8576b"
            ],
            [
             0.6666666666666666,
             "#ed7953"
            ],
            [
             0.7777777777777778,
             "#fb9f3a"
            ],
            [
             0.8888888888888888,
             "#fdca26"
            ],
            [
             1,
             "#f0f921"
            ]
           ]
          },
          "colorway": [
           "#636efa",
           "#EF553B",
           "#00cc96",
           "#ab63fa",
           "#FFA15A",
           "#19d3f3",
           "#FF6692",
           "#B6E880",
           "#FF97FF",
           "#FECB52"
          ],
          "font": {
           "color": "#2a3f5f"
          },
          "geo": {
           "bgcolor": "white",
           "lakecolor": "white",
           "landcolor": "#E5ECF6",
           "showlakes": true,
           "showland": true,
           "subunitcolor": "white"
          },
          "hoverlabel": {
           "align": "left"
          },
          "hovermode": "closest",
          "mapbox": {
           "style": "light"
          },
          "paper_bgcolor": "white",
          "plot_bgcolor": "#E5ECF6",
          "polar": {
           "angularaxis": {
            "gridcolor": "white",
            "linecolor": "white",
            "ticks": ""
           },
           "bgcolor": "#E5ECF6",
           "radialaxis": {
            "gridcolor": "white",
            "linecolor": "white",
            "ticks": ""
           }
          },
          "scene": {
           "xaxis": {
            "backgroundcolor": "#E5ECF6",
            "gridcolor": "white",
            "gridwidth": 2,
            "linecolor": "white",
            "showbackground": true,
            "ticks": "",
            "zerolinecolor": "white"
           },
           "yaxis": {
            "backgroundcolor": "#E5ECF6",
            "gridcolor": "white",
            "gridwidth": 2,
            "linecolor": "white",
            "showbackground": true,
            "ticks": "",
            "zerolinecolor": "white"
           },
           "zaxis": {
            "backgroundcolor": "#E5ECF6",
            "gridcolor": "white",
            "gridwidth": 2,
            "linecolor": "white",
            "showbackground": true,
            "ticks": "",
            "zerolinecolor": "white"
           }
          },
          "shapedefaults": {
           "line": {
            "color": "#2a3f5f"
           }
          },
          "ternary": {
           "aaxis": {
            "gridcolor": "white",
            "linecolor": "white",
            "ticks": ""
           },
           "baxis": {
            "gridcolor": "white",
            "linecolor": "white",
            "ticks": ""
           },
           "bgcolor": "#E5ECF6",
           "caxis": {
            "gridcolor": "white",
            "linecolor": "white",
            "ticks": ""
           }
          },
          "title": {
           "x": 0.05
          },
          "xaxis": {
           "automargin": true,
           "gridcolor": "white",
           "linecolor": "white",
           "ticks": "",
           "title": {
            "standoff": 15
           },
           "zerolinecolor": "white",
           "zerolinewidth": 2
          },
          "yaxis": {
           "automargin": true,
           "gridcolor": "white",
           "linecolor": "white",
           "ticks": "",
           "title": {
            "standoff": 15
           },
           "zerolinecolor": "white",
           "zerolinewidth": 2
          }
         }
        },
        "title": {
         "text": "Outcome Variable Visualization",
         "x": 0.5
        },
        "width": 900,
        "xaxis": {
         "anchor": "y",
         "domain": [
          0,
          0.45
         ]
        },
        "yaxis": {
         "anchor": "x",
         "domain": [
          0,
          1
         ]
        }
       }
      },
      "text/html": [
       "<div>            <script src=\"https://cdnjs.cloudflare.com/ajax/libs/mathjax/2.7.5/MathJax.js?config=TeX-AMS-MML_SVG\"></script><script type=\"text/javascript\">if (window.MathJax && window.MathJax.Hub && window.MathJax.Hub.Config) {window.MathJax.Hub.Config({SVG: {font: \"STIX-Web\"}});}</script>                <script type=\"text/javascript\">window.PlotlyConfig = {MathJaxConfig: 'local'};</script>\n",
       "        <script charset=\"utf-8\" src=\"https://cdn.plot.ly/plotly-3.0.1.min.js\" integrity=\"sha256-oy6Be7Eh6eiQFs5M7oXuPxxm9qbJXEtTpfSI93dW16Q=\" crossorigin=\"anonymous\"></script>                <div id=\"62cfd354-5e2d-4fd4-a120-ee4cff102d3c\" class=\"plotly-graph-div\" style=\"height:400px; width:900px;\"></div>            <script type=\"text/javascript\">                window.PLOTLYENV=window.PLOTLYENV || {};                                if (document.getElementById(\"62cfd354-5e2d-4fd4-a120-ee4cff102d3c\")) {                    Plotly.newPlot(                        \"62cfd354-5e2d-4fd4-a120-ee4cff102d3c\",                        [{\"marker\":{\"color\":[\"lightskyblue\",\"lightcoral\"],\"line\":{\"color\":\"#000000\",\"width\":1.5}},\"name\":\"Count\",\"opacity\":0.85,\"orientation\":\"h\",\"text\":[\"500\",\"268\"],\"textfont\":{\"size\":14},\"textposition\":\"auto\",\"x\":[500,268],\"y\":[\"Healthy\",\"Diabetic\"],\"type\":\"bar\",\"xaxis\":\"x\",\"yaxis\":\"y\"},{\"labels\":[\"Healthy\",\"Diabetic\"],\"marker\":{\"colors\":[\"lightskyblue\",\"lightcoral\"],\"line\":{\"color\":\"#000000\",\"width\":1.5}},\"name\":\"Percentage\",\"opacity\":0.9,\"textfont\":{\"size\":14},\"textinfo\":\"label+percent\",\"values\":{\"dtype\":\"i2\",\"bdata\":\"9AEMAQ==\"},\"type\":\"pie\",\"domain\":{\"x\":[0.55,1.0],\"y\":[0.0,1.0]}}],                        {\"template\":{\"data\":{\"histogram2dcontour\":[{\"type\":\"histogram2dcontour\",\"colorbar\":{\"outlinewidth\":0,\"ticks\":\"\"},\"colorscale\":[[0.0,\"#0d0887\"],[0.1111111111111111,\"#46039f\"],[0.2222222222222222,\"#7201a8\"],[0.3333333333333333,\"#9c179e\"],[0.4444444444444444,\"#bd3786\"],[0.5555555555555556,\"#d8576b\"],[0.6666666666666666,\"#ed7953\"],[0.7777777777777778,\"#fb9f3a\"],[0.8888888888888888,\"#fdca26\"],[1.0,\"#f0f921\"]]}],\"choropleth\":[{\"type\":\"choropleth\",\"colorbar\":{\"outlinewidth\":0,\"ticks\":\"\"}}],\"histogram2d\":[{\"type\":\"histogram2d\",\"colorbar\":{\"outlinewidth\":0,\"ticks\":\"\"},\"colorscale\":[[0.0,\"#0d0887\"],[0.1111111111111111,\"#46039f\"],[0.2222222222222222,\"#7201a8\"],[0.3333333333333333,\"#9c179e\"],[0.4444444444444444,\"#bd3786\"],[0.5555555555555556,\"#d8576b\"],[0.6666666666666666,\"#ed7953\"],[0.7777777777777778,\"#fb9f3a\"],[0.8888888888888888,\"#fdca26\"],[1.0,\"#f0f921\"]]}],\"heatmap\":[{\"type\":\"heatmap\",\"colorbar\":{\"outlinewidth\":0,\"ticks\":\"\"},\"colorscale\":[[0.0,\"#0d0887\"],[0.1111111111111111,\"#46039f\"],[0.2222222222222222,\"#7201a8\"],[0.3333333333333333,\"#9c179e\"],[0.4444444444444444,\"#bd3786\"],[0.5555555555555556,\"#d8576b\"],[0.6666666666666666,\"#ed7953\"],[0.7777777777777778,\"#fb9f3a\"],[0.8888888888888888,\"#fdca26\"],[1.0,\"#f0f921\"]]}],\"contourcarpet\":[{\"type\":\"contourcarpet\",\"colorbar\":{\"outlinewidth\":0,\"ticks\":\"\"}}],\"contour\":[{\"type\":\"contour\",\"colorbar\":{\"outlinewidth\":0,\"ticks\":\"\"},\"colorscale\":[[0.0,\"#0d0887\"],[0.1111111111111111,\"#46039f\"],[0.2222222222222222,\"#7201a8\"],[0.3333333333333333,\"#9c179e\"],[0.4444444444444444,\"#bd3786\"],[0.5555555555555556,\"#d8576b\"],[0.6666666666666666,\"#ed7953\"],[0.7777777777777778,\"#fb9f3a\"],[0.8888888888888888,\"#fdca26\"],[1.0,\"#f0f921\"]]}],\"surface\":[{\"type\":\"surface\",\"colorbar\":{\"outlinewidth\":0,\"ticks\":\"\"},\"colorscale\":[[0.0,\"#0d0887\"],[0.1111111111111111,\"#46039f\"],[0.2222222222222222,\"#7201a8\"],[0.3333333333333333,\"#9c179e\"],[0.4444444444444444,\"#bd3786\"],[0.5555555555555556,\"#d8576b\"],[0.6666666666666666,\"#ed7953\"],[0.7777777777777778,\"#fb9f3a\"],[0.8888888888888888,\"#fdca26\"],[1.0,\"#f0f921\"]]}],\"mesh3d\":[{\"type\":\"mesh3d\",\"colorbar\":{\"outlinewidth\":0,\"ticks\":\"\"}}],\"scatter\":[{\"fillpattern\":{\"fillmode\":\"overlay\",\"size\":10,\"solidity\":0.2},\"type\":\"scatter\"}],\"parcoords\":[{\"type\":\"parcoords\",\"line\":{\"colorbar\":{\"outlinewidth\":0,\"ticks\":\"\"}}}],\"scatterpolargl\":[{\"type\":\"scatterpolargl\",\"marker\":{\"colorbar\":{\"outlinewidth\":0,\"ticks\":\"\"}}}],\"bar\":[{\"error_x\":{\"color\":\"#2a3f5f\"},\"error_y\":{\"color\":\"#2a3f5f\"},\"marker\":{\"line\":{\"color\":\"#E5ECF6\",\"width\":0.5},\"pattern\":{\"fillmode\":\"overlay\",\"size\":10,\"solidity\":0.2}},\"type\":\"bar\"}],\"scattergeo\":[{\"type\":\"scattergeo\",\"marker\":{\"colorbar\":{\"outlinewidth\":0,\"ticks\":\"\"}}}],\"scatterpolar\":[{\"type\":\"scatterpolar\",\"marker\":{\"colorbar\":{\"outlinewidth\":0,\"ticks\":\"\"}}}],\"histogram\":[{\"marker\":{\"pattern\":{\"fillmode\":\"overlay\",\"size\":10,\"solidity\":0.2}},\"type\":\"histogram\"}],\"scattergl\":[{\"type\":\"scattergl\",\"marker\":{\"colorbar\":{\"outlinewidth\":0,\"ticks\":\"\"}}}],\"scatter3d\":[{\"type\":\"scatter3d\",\"line\":{\"colorbar\":{\"outlinewidth\":0,\"ticks\":\"\"}},\"marker\":{\"colorbar\":{\"outlinewidth\":0,\"ticks\":\"\"}}}],\"scattermap\":[{\"type\":\"scattermap\",\"marker\":{\"colorbar\":{\"outlinewidth\":0,\"ticks\":\"\"}}}],\"scattermapbox\":[{\"type\":\"scattermapbox\",\"marker\":{\"colorbar\":{\"outlinewidth\":0,\"ticks\":\"\"}}}],\"scatterternary\":[{\"type\":\"scatterternary\",\"marker\":{\"colorbar\":{\"outlinewidth\":0,\"ticks\":\"\"}}}],\"scattercarpet\":[{\"type\":\"scattercarpet\",\"marker\":{\"colorbar\":{\"outlinewidth\":0,\"ticks\":\"\"}}}],\"carpet\":[{\"aaxis\":{\"endlinecolor\":\"#2a3f5f\",\"gridcolor\":\"white\",\"linecolor\":\"white\",\"minorgridcolor\":\"white\",\"startlinecolor\":\"#2a3f5f\"},\"baxis\":{\"endlinecolor\":\"#2a3f5f\",\"gridcolor\":\"white\",\"linecolor\":\"white\",\"minorgridcolor\":\"white\",\"startlinecolor\":\"#2a3f5f\"},\"type\":\"carpet\"}],\"table\":[{\"cells\":{\"fill\":{\"color\":\"#EBF0F8\"},\"line\":{\"color\":\"white\"}},\"header\":{\"fill\":{\"color\":\"#C8D4E3\"},\"line\":{\"color\":\"white\"}},\"type\":\"table\"}],\"barpolar\":[{\"marker\":{\"line\":{\"color\":\"#E5ECF6\",\"width\":0.5},\"pattern\":{\"fillmode\":\"overlay\",\"size\":10,\"solidity\":0.2}},\"type\":\"barpolar\"}],\"pie\":[{\"automargin\":true,\"type\":\"pie\"}]},\"layout\":{\"autotypenumbers\":\"strict\",\"colorway\":[\"#636efa\",\"#EF553B\",\"#00cc96\",\"#ab63fa\",\"#FFA15A\",\"#19d3f3\",\"#FF6692\",\"#B6E880\",\"#FF97FF\",\"#FECB52\"],\"font\":{\"color\":\"#2a3f5f\"},\"hovermode\":\"closest\",\"hoverlabel\":{\"align\":\"left\"},\"paper_bgcolor\":\"white\",\"plot_bgcolor\":\"#E5ECF6\",\"polar\":{\"bgcolor\":\"#E5ECF6\",\"angularaxis\":{\"gridcolor\":\"white\",\"linecolor\":\"white\",\"ticks\":\"\"},\"radialaxis\":{\"gridcolor\":\"white\",\"linecolor\":\"white\",\"ticks\":\"\"}},\"ternary\":{\"bgcolor\":\"#E5ECF6\",\"aaxis\":{\"gridcolor\":\"white\",\"linecolor\":\"white\",\"ticks\":\"\"},\"baxis\":{\"gridcolor\":\"white\",\"linecolor\":\"white\",\"ticks\":\"\"},\"caxis\":{\"gridcolor\":\"white\",\"linecolor\":\"white\",\"ticks\":\"\"}},\"coloraxis\":{\"colorbar\":{\"outlinewidth\":0,\"ticks\":\"\"}},\"colorscale\":{\"sequential\":[[0.0,\"#0d0887\"],[0.1111111111111111,\"#46039f\"],[0.2222222222222222,\"#7201a8\"],[0.3333333333333333,\"#9c179e\"],[0.4444444444444444,\"#bd3786\"],[0.5555555555555556,\"#d8576b\"],[0.6666666666666666,\"#ed7953\"],[0.7777777777777778,\"#fb9f3a\"],[0.8888888888888888,\"#fdca26\"],[1.0,\"#f0f921\"]],\"sequentialminus\":[[0.0,\"#0d0887\"],[0.1111111111111111,\"#46039f\"],[0.2222222222222222,\"#7201a8\"],[0.3333333333333333,\"#9c179e\"],[0.4444444444444444,\"#bd3786\"],[0.5555555555555556,\"#d8576b\"],[0.6666666666666666,\"#ed7953\"],[0.7777777777777778,\"#fb9f3a\"],[0.8888888888888888,\"#fdca26\"],[1.0,\"#f0f921\"]],\"diverging\":[[0,\"#8e0152\"],[0.1,\"#c51b7d\"],[0.2,\"#de77ae\"],[0.3,\"#f1b6da\"],[0.4,\"#fde0ef\"],[0.5,\"#f7f7f7\"],[0.6,\"#e6f5d0\"],[0.7,\"#b8e186\"],[0.8,\"#7fbc41\"],[0.9,\"#4d9221\"],[1,\"#276419\"]]},\"xaxis\":{\"gridcolor\":\"white\",\"linecolor\":\"white\",\"ticks\":\"\",\"title\":{\"standoff\":15},\"zerolinecolor\":\"white\",\"automargin\":true,\"zerolinewidth\":2},\"yaxis\":{\"gridcolor\":\"white\",\"linecolor\":\"white\",\"ticks\":\"\",\"title\":{\"standoff\":15},\"zerolinecolor\":\"white\",\"automargin\":true,\"zerolinewidth\":2},\"scene\":{\"xaxis\":{\"backgroundcolor\":\"#E5ECF6\",\"gridcolor\":\"white\",\"linecolor\":\"white\",\"showbackground\":true,\"ticks\":\"\",\"zerolinecolor\":\"white\",\"gridwidth\":2},\"yaxis\":{\"backgroundcolor\":\"#E5ECF6\",\"gridcolor\":\"white\",\"linecolor\":\"white\",\"showbackground\":true,\"ticks\":\"\",\"zerolinecolor\":\"white\",\"gridwidth\":2},\"zaxis\":{\"backgroundcolor\":\"#E5ECF6\",\"gridcolor\":\"white\",\"linecolor\":\"white\",\"showbackground\":true,\"ticks\":\"\",\"zerolinecolor\":\"white\",\"gridwidth\":2}},\"shapedefaults\":{\"line\":{\"color\":\"#2a3f5f\"}},\"annotationdefaults\":{\"arrowcolor\":\"#2a3f5f\",\"arrowhead\":0,\"arrowwidth\":1},\"geo\":{\"bgcolor\":\"white\",\"landcolor\":\"#E5ECF6\",\"subunitcolor\":\"white\",\"showland\":true,\"showlakes\":true,\"lakecolor\":\"white\"},\"title\":{\"x\":0.05},\"mapbox\":{\"style\":\"light\"}}},\"xaxis\":{\"anchor\":\"y\",\"domain\":[0.0,0.45]},\"yaxis\":{\"anchor\":\"x\",\"domain\":[0.0,1.0]},\"annotations\":[{\"font\":{\"size\":16},\"showarrow\":false,\"text\":\"Count of Outcome variable\",\"x\":0.225,\"xanchor\":\"center\",\"xref\":\"paper\",\"y\":1.0,\"yanchor\":\"bottom\",\"yref\":\"paper\"},{\"font\":{\"size\":16},\"showarrow\":false,\"text\":\"Distribution of Outcome variable\",\"x\":0.775,\"xanchor\":\"center\",\"xref\":\"paper\",\"y\":1.0,\"yanchor\":\"bottom\",\"yref\":\"paper\"}],\"title\":{\"text\":\"Outcome Variable Visualization\",\"x\":0.5},\"showlegend\":false,\"width\":900,\"height\":400},                        {\"responsive\": true}                    ).then(function(){\n",
       "                            \n",
       "var gd = document.getElementById('62cfd354-5e2d-4fd4-a120-ee4cff102d3c');\n",
       "var x = new MutationObserver(function (mutations, observer) {{\n",
       "        var display = window.getComputedStyle(gd).display;\n",
       "        if (!display || display === 'none') {{\n",
       "            console.log([gd, 'removed!']);\n",
       "            Plotly.purge(gd);\n",
       "            observer.disconnect();\n",
       "        }}\n",
       "}});\n",
       "\n",
       "// Listen for the removal of the full notebook cells\n",
       "var notebookContainer = gd.closest('#notebook-container');\n",
       "if (notebookContainer) {{\n",
       "    x.observe(notebookContainer, {childList: true});\n",
       "}}\n",
       "\n",
       "// Listen for the clearing of the current output cell\n",
       "var outputEl = gd.closest('.output');\n",
       "if (outputEl) {{\n",
       "    x.observe(outputEl, {childList: true});\n",
       "}}\n",
       "\n",
       "                        })                };            </script>        </div>"
      ]
     },
     "metadata": {},
     "output_type": "display_data"
    }
   ],
   "source": [
    "\n",
    "# Chia dữ liệu\n",
    "D = data[data['Outcome'] != 0]   # bệnh\n",
    "H = data[data['Outcome'] == 0]   # khỏe\n",
    "\n",
    "# Tạo figure 2 biểu đồ cạnh nhau\n",
    "fig = make_subplots(\n",
    "    rows=1, cols=2,\n",
    "    subplot_titles=(\"Count of Outcome variable\", \"Distribution of Outcome variable\"),\n",
    "    specs=[[{\"type\": \"bar\"}, {\"type\": \"pie\"}]]\n",
    ")\n",
    "\n",
    "# --- Biểu đồ 1: COUNT ---\n",
    "trace1 = go.Bar(\n",
    "    x=data['Outcome'].value_counts().values.tolist(),\n",
    "    y=['Healthy', 'Diabetic'],\n",
    "    orientation='h',\n",
    "    text=data['Outcome'].value_counts().values.tolist(),\n",
    "    textfont=dict(size=14),\n",
    "    textposition='auto',\n",
    "    marker=dict(\n",
    "        color=['lightskyblue', 'lightcoral'],  # Healthy = xanh, Diabetic = đỏ nhạt\n",
    "        line=dict(color='#000000', width=1.5)\n",
    "    ),\n",
    "    opacity=0.85,\n",
    "    name=\"Count\"\n",
    ")\n",
    "fig.add_trace(trace1, row=1, col=1)\n",
    "\n",
    "# --- Biểu đồ 2: PIE ---\n",
    "trace2 = go.Pie(\n",
    "    labels=['Healthy', 'Diabetic'],\n",
    "    values=data['Outcome'].value_counts(),\n",
    "    textfont=dict(size=14),\n",
    "    marker=dict(\n",
    "        colors=['lightskyblue', 'lightcoral'],  # Giữ cùng bảng màu\n",
    "        line=dict(color='#000000', width=1.5)\n",
    "    ),\n",
    "    textinfo='label+percent',\n",
    "    opacity=0.9,\n",
    "    name=\"Percentage\"\n",
    ")\n",
    "fig.add_trace(trace2, row=1, col=2)\n",
    "\n",
    "# --- Layout chung ---\n",
    "fig.update_layout(\n",
    "    title_text=\"Outcome Variable Visualization\",\n",
    "    title_x=0.5,\n",
    "    showlegend=False,\n",
    "    width=900,\n",
    "    height=400\n",
    ")\n",
    "\n",
    "fig.show()\n"
   ]
  },
  {
   "cell_type": "markdown",
   "id": "d8f7bd94",
   "metadata": {},
   "source": [
    "### 2. Phân phối tất cả các biến "
   ]
  },
  {
   "cell_type": "code",
   "execution_count": 22,
   "id": "b9559557",
   "metadata": {},
   "outputs": [],
   "source": [
    "data[['Glucose','BloodPressure','SkinThickness','Insulin','BMI']] = data[['Glucose','BloodPressure','SkinThickness','Insulin','BMI']].replace(0,np.nan)"
   ]
  },
  {
   "cell_type": "code",
   "execution_count": 13,
   "id": "af639acd",
   "metadata": {},
   "outputs": [
    {
     "data": {
      "image/png": "[encoded data removed]",
      "text/plain": [
       "<Figure size 1100x1500 with 1 Axes>"
      ]
     },
     "metadata": {},
     "output_type": "display_data"
    }
   ],
   "source": [
    "plt.style.use('ggplot') # Using ggplot2 style visuals \n",
    "\n",
    "f, ax = plt.subplots(figsize=(11, 15))\n",
    "\n",
    "ax.set_facecolor('#fafafa')\n",
    "ax.set(xlim=(-.05, 200))\n",
    "plt.ylabel('Variables')\n",
    "plt.title(\"Overview Data Set\")\n",
    "ax = sns.boxplot(data = data, \n",
    "  orient = 'h', \n",
    "  palette = 'Set2')"
   ]
  }
 ],
 "metadata": {
  "kernelspec": {
   "display_name": "Python 3",
   "language": "python",
   "name": "python3"
  },
  "language_info": {
   "codemirror_mode": {
    "name": "ipython",
    "version": 3
   },
   "file_extension": ".py",
   "mimetype": "text/x-python",
   "name": "python",
   "nbconvert_exporter": "python",
   "pygments_lexer": "ipython3",
   "version": "3.12.1"
  }
 },
 "nbformat": 4,
 "nbformat_minor": 5
}
